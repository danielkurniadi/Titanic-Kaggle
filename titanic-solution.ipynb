{
 "cells": [
  {
   "cell_type": "code",
   "execution_count": 1,
   "metadata": {},
   "outputs": [],
   "source": [
    "# Core\n",
    "import numpy as np\n",
    "import pandas as pd\n",
    "\n",
    "# Data visualization\n",
    "import matplotlib.pyplot as plt\n",
    "import seaborn as sns\n",
    "%matplotlib inline"
   ]
  },
  {
   "cell_type": "code",
   "execution_count": 2,
   "metadata": {},
   "outputs": [
    {
     "name": "stdout",
     "output_type": "stream",
     "text": [
      "Shape of train dataset:  (891, 12)\n",
      "Shape of test dataset:  (418, 11)\n"
     ]
    }
   ],
   "source": [
    "# Increase default plot size\n",
    "from pylab import rcParams\n",
    "rcParams['figure.figsize'] = (5, 4)\n",
    "\n",
    "# Ignore warnings\n",
    "import warnings\n",
    "warnings.filterwarnings('ignore')\n",
    "\n",
    "#load datasets\n",
    "train_df = pd.read_csv('./titanic-dataset/train.csv')\n",
    "test_df = pd.read_csv('./titanic-dataset/test.csv')\n",
    "\n",
    "print(\"Shape of train dataset: \", train_df.shape)\n",
    "print(\"Shape of test dataset: \", test_df.shape)"
   ]
  },
  {
   "cell_type": "code",
   "execution_count": 3,
   "metadata": {},
   "outputs": [
    {
     "data": {
      "text/html": [
       "<div>\n",
       "<style scoped>\n",
       "    .dataframe tbody tr th:only-of-type {\n",
       "        vertical-align: middle;\n",
       "    }\n",
       "\n",
       "    .dataframe tbody tr th {\n",
       "        vertical-align: top;\n",
       "    }\n",
       "\n",
       "    .dataframe thead th {\n",
       "        text-align: right;\n",
       "    }\n",
       "</style>\n",
       "<table border=\"1\" class=\"dataframe\">\n",
       "  <thead>\n",
       "    <tr style=\"text-align: right;\">\n",
       "      <th></th>\n",
       "      <th>PassengerId</th>\n",
       "      <th>Survived</th>\n",
       "      <th>Pclass</th>\n",
       "      <th>Name</th>\n",
       "      <th>Sex</th>\n",
       "      <th>Age</th>\n",
       "      <th>SibSp</th>\n",
       "      <th>Parch</th>\n",
       "      <th>Ticket</th>\n",
       "      <th>Fare</th>\n",
       "      <th>Cabin</th>\n",
       "      <th>Embarked</th>\n",
       "    </tr>\n",
       "  </thead>\n",
       "  <tbody>\n",
       "    <tr>\n",
       "      <th>0</th>\n",
       "      <td>1</td>\n",
       "      <td>0</td>\n",
       "      <td>3</td>\n",
       "      <td>Braund, Mr. Owen Harris</td>\n",
       "      <td>male</td>\n",
       "      <td>22.0</td>\n",
       "      <td>1</td>\n",
       "      <td>0</td>\n",
       "      <td>A/5 21171</td>\n",
       "      <td>7.2500</td>\n",
       "      <td>NaN</td>\n",
       "      <td>S</td>\n",
       "    </tr>\n",
       "    <tr>\n",
       "      <th>1</th>\n",
       "      <td>2</td>\n",
       "      <td>1</td>\n",
       "      <td>1</td>\n",
       "      <td>Cumings, Mrs. John Bradley (Florence Briggs Th...</td>\n",
       "      <td>female</td>\n",
       "      <td>38.0</td>\n",
       "      <td>1</td>\n",
       "      <td>0</td>\n",
       "      <td>PC 17599</td>\n",
       "      <td>71.2833</td>\n",
       "      <td>C85</td>\n",
       "      <td>C</td>\n",
       "    </tr>\n",
       "    <tr>\n",
       "      <th>2</th>\n",
       "      <td>3</td>\n",
       "      <td>1</td>\n",
       "      <td>3</td>\n",
       "      <td>Heikkinen, Miss. Laina</td>\n",
       "      <td>female</td>\n",
       "      <td>26.0</td>\n",
       "      <td>0</td>\n",
       "      <td>0</td>\n",
       "      <td>STON/O2. 3101282</td>\n",
       "      <td>7.9250</td>\n",
       "      <td>NaN</td>\n",
       "      <td>S</td>\n",
       "    </tr>\n",
       "    <tr>\n",
       "      <th>3</th>\n",
       "      <td>4</td>\n",
       "      <td>1</td>\n",
       "      <td>1</td>\n",
       "      <td>Futrelle, Mrs. Jacques Heath (Lily May Peel)</td>\n",
       "      <td>female</td>\n",
       "      <td>35.0</td>\n",
       "      <td>1</td>\n",
       "      <td>0</td>\n",
       "      <td>113803</td>\n",
       "      <td>53.1000</td>\n",
       "      <td>C123</td>\n",
       "      <td>S</td>\n",
       "    </tr>\n",
       "    <tr>\n",
       "      <th>4</th>\n",
       "      <td>5</td>\n",
       "      <td>0</td>\n",
       "      <td>3</td>\n",
       "      <td>Allen, Mr. William Henry</td>\n",
       "      <td>male</td>\n",
       "      <td>35.0</td>\n",
       "      <td>0</td>\n",
       "      <td>0</td>\n",
       "      <td>373450</td>\n",
       "      <td>8.0500</td>\n",
       "      <td>NaN</td>\n",
       "      <td>S</td>\n",
       "    </tr>\n",
       "    <tr>\n",
       "      <th>5</th>\n",
       "      <td>6</td>\n",
       "      <td>0</td>\n",
       "      <td>3</td>\n",
       "      <td>Moran, Mr. James</td>\n",
       "      <td>male</td>\n",
       "      <td>NaN</td>\n",
       "      <td>0</td>\n",
       "      <td>0</td>\n",
       "      <td>330877</td>\n",
       "      <td>8.4583</td>\n",
       "      <td>NaN</td>\n",
       "      <td>Q</td>\n",
       "    </tr>\n",
       "  </tbody>\n",
       "</table>\n",
       "</div>"
      ],
      "text/plain": [
       "   PassengerId  Survived  Pclass  \\\n",
       "0            1         0       3   \n",
       "1            2         1       1   \n",
       "2            3         1       3   \n",
       "3            4         1       1   \n",
       "4            5         0       3   \n",
       "5            6         0       3   \n",
       "\n",
       "                                                Name     Sex   Age  SibSp  \\\n",
       "0                            Braund, Mr. Owen Harris    male  22.0      1   \n",
       "1  Cumings, Mrs. John Bradley (Florence Briggs Th...  female  38.0      1   \n",
       "2                             Heikkinen, Miss. Laina  female  26.0      0   \n",
       "3       Futrelle, Mrs. Jacques Heath (Lily May Peel)  female  35.0      1   \n",
       "4                           Allen, Mr. William Henry    male  35.0      0   \n",
       "5                                   Moran, Mr. James    male   NaN      0   \n",
       "\n",
       "   Parch            Ticket     Fare Cabin Embarked  \n",
       "0      0         A/5 21171   7.2500   NaN        S  \n",
       "1      0          PC 17599  71.2833   C85        C  \n",
       "2      0  STON/O2. 3101282   7.9250   NaN        S  \n",
       "3      0            113803  53.1000  C123        S  \n",
       "4      0            373450   8.0500   NaN        S  \n",
       "5      0            330877   8.4583   NaN        Q  "
      ]
     },
     "execution_count": 3,
     "metadata": {},
     "output_type": "execute_result"
    }
   ],
   "source": [
    "train_df.head(6)"
   ]
  },
  {
   "cell_type": "code",
   "execution_count": 4,
   "metadata": {},
   "outputs": [
    {
     "name": "stdout",
     "output_type": "stream",
     "text": [
      "<class 'pandas.core.frame.DataFrame'>\n",
      "RangeIndex: 891 entries, 0 to 890\n",
      "Data columns (total 12 columns):\n",
      "PassengerId    891 non-null int64\n",
      "Survived       891 non-null int64\n",
      "Pclass         891 non-null int64\n",
      "Name           891 non-null object\n",
      "Sex            891 non-null object\n",
      "Age            714 non-null float64\n",
      "SibSp          891 non-null int64\n",
      "Parch          891 non-null int64\n",
      "Ticket         891 non-null object\n",
      "Fare           891 non-null float64\n",
      "Cabin          204 non-null object\n",
      "Embarked       889 non-null object\n",
      "dtypes: float64(2), int64(5), object(5)\n",
      "memory usage: 83.6+ KB\n"
     ]
    }
   ],
   "source": [
    "train_df.info()"
   ]
  },
  {
   "cell_type": "code",
   "execution_count": 5,
   "metadata": {},
   "outputs": [
    {
     "data": {
      "text/html": [
       "<div>\n",
       "<style scoped>\n",
       "    .dataframe tbody tr th:only-of-type {\n",
       "        vertical-align: middle;\n",
       "    }\n",
       "\n",
       "    .dataframe tbody tr th {\n",
       "        vertical-align: top;\n",
       "    }\n",
       "\n",
       "    .dataframe thead th {\n",
       "        text-align: right;\n",
       "    }\n",
       "</style>\n",
       "<table border=\"1\" class=\"dataframe\">\n",
       "  <thead>\n",
       "    <tr style=\"text-align: right;\">\n",
       "      <th></th>\n",
       "      <th>total na</th>\n",
       "      <th>percentage na</th>\n",
       "    </tr>\n",
       "  </thead>\n",
       "  <tbody>\n",
       "    <tr>\n",
       "      <th>Cabin</th>\n",
       "      <td>687</td>\n",
       "      <td>77.104377</td>\n",
       "    </tr>\n",
       "    <tr>\n",
       "      <th>Age</th>\n",
       "      <td>177</td>\n",
       "      <td>19.865320</td>\n",
       "    </tr>\n",
       "    <tr>\n",
       "      <th>Embarked</th>\n",
       "      <td>2</td>\n",
       "      <td>0.224467</td>\n",
       "    </tr>\n",
       "    <tr>\n",
       "      <th>Fare</th>\n",
       "      <td>0</td>\n",
       "      <td>0.000000</td>\n",
       "    </tr>\n",
       "    <tr>\n",
       "      <th>Ticket</th>\n",
       "      <td>0</td>\n",
       "      <td>0.000000</td>\n",
       "    </tr>\n",
       "    <tr>\n",
       "      <th>Parch</th>\n",
       "      <td>0</td>\n",
       "      <td>0.000000</td>\n",
       "    </tr>\n",
       "    <tr>\n",
       "      <th>SibSp</th>\n",
       "      <td>0</td>\n",
       "      <td>0.000000</td>\n",
       "    </tr>\n",
       "    <tr>\n",
       "      <th>Sex</th>\n",
       "      <td>0</td>\n",
       "      <td>0.000000</td>\n",
       "    </tr>\n",
       "    <tr>\n",
       "      <th>Name</th>\n",
       "      <td>0</td>\n",
       "      <td>0.000000</td>\n",
       "    </tr>\n",
       "    <tr>\n",
       "      <th>Pclass</th>\n",
       "      <td>0</td>\n",
       "      <td>0.000000</td>\n",
       "    </tr>\n",
       "    <tr>\n",
       "      <th>Survived</th>\n",
       "      <td>0</td>\n",
       "      <td>0.000000</td>\n",
       "    </tr>\n",
       "    <tr>\n",
       "      <th>PassengerId</th>\n",
       "      <td>0</td>\n",
       "      <td>0.000000</td>\n",
       "    </tr>\n",
       "  </tbody>\n",
       "</table>\n",
       "</div>"
      ],
      "text/plain": [
       "             total na  percentage na\n",
       "Cabin             687      77.104377\n",
       "Age               177      19.865320\n",
       "Embarked            2       0.224467\n",
       "Fare                0       0.000000\n",
       "Ticket              0       0.000000\n",
       "Parch               0       0.000000\n",
       "SibSp               0       0.000000\n",
       "Sex                 0       0.000000\n",
       "Name                0       0.000000\n",
       "Pclass              0       0.000000\n",
       "Survived            0       0.000000\n",
       "PassengerId         0       0.000000"
      ]
     },
     "execution_count": 5,
     "metadata": {},
     "output_type": "execute_result"
    }
   ],
   "source": [
    "#count total NaN in train dataset\n",
    "totalna = train_df.isnull().sum().sort_values(ascending=False)\n",
    "percentagena = totalna/train_df.shape[0]*100\n",
    "\n",
    "total_percent_df = pd.concat([totalna, percentagena], axis=1)\n",
    "total_percent_df.columns = [\"total na\", \"percentage na\"]\n",
    "\n",
    "total_percent_df"
   ]
  },
  {
   "cell_type": "code",
   "execution_count": 6,
   "metadata": {},
   "outputs": [
    {
     "data": {
      "text/html": [
       "<div>\n",
       "<style scoped>\n",
       "    .dataframe tbody tr th:only-of-type {\n",
       "        vertical-align: middle;\n",
       "    }\n",
       "\n",
       "    .dataframe tbody tr th {\n",
       "        vertical-align: top;\n",
       "    }\n",
       "\n",
       "    .dataframe thead th {\n",
       "        text-align: right;\n",
       "    }\n",
       "</style>\n",
       "<table border=\"1\" class=\"dataframe\">\n",
       "  <thead>\n",
       "    <tr style=\"text-align: right;\">\n",
       "      <th></th>\n",
       "      <th>total na</th>\n",
       "      <th>percentage na</th>\n",
       "    </tr>\n",
       "  </thead>\n",
       "  <tbody>\n",
       "    <tr>\n",
       "      <th>Cabin</th>\n",
       "      <td>327</td>\n",
       "      <td>78.229665</td>\n",
       "    </tr>\n",
       "    <tr>\n",
       "      <th>Age</th>\n",
       "      <td>86</td>\n",
       "      <td>20.574163</td>\n",
       "    </tr>\n",
       "    <tr>\n",
       "      <th>Fare</th>\n",
       "      <td>1</td>\n",
       "      <td>0.239234</td>\n",
       "    </tr>\n",
       "    <tr>\n",
       "      <th>Embarked</th>\n",
       "      <td>0</td>\n",
       "      <td>0.000000</td>\n",
       "    </tr>\n",
       "    <tr>\n",
       "      <th>Ticket</th>\n",
       "      <td>0</td>\n",
       "      <td>0.000000</td>\n",
       "    </tr>\n",
       "    <tr>\n",
       "      <th>Parch</th>\n",
       "      <td>0</td>\n",
       "      <td>0.000000</td>\n",
       "    </tr>\n",
       "    <tr>\n",
       "      <th>SibSp</th>\n",
       "      <td>0</td>\n",
       "      <td>0.000000</td>\n",
       "    </tr>\n",
       "    <tr>\n",
       "      <th>Sex</th>\n",
       "      <td>0</td>\n",
       "      <td>0.000000</td>\n",
       "    </tr>\n",
       "    <tr>\n",
       "      <th>Name</th>\n",
       "      <td>0</td>\n",
       "      <td>0.000000</td>\n",
       "    </tr>\n",
       "    <tr>\n",
       "      <th>Pclass</th>\n",
       "      <td>0</td>\n",
       "      <td>0.000000</td>\n",
       "    </tr>\n",
       "    <tr>\n",
       "      <th>PassengerId</th>\n",
       "      <td>0</td>\n",
       "      <td>0.000000</td>\n",
       "    </tr>\n",
       "  </tbody>\n",
       "</table>\n",
       "</div>"
      ],
      "text/plain": [
       "             total na  percentage na\n",
       "Cabin             327      78.229665\n",
       "Age                86      20.574163\n",
       "Fare                1       0.239234\n",
       "Embarked            0       0.000000\n",
       "Ticket              0       0.000000\n",
       "Parch               0       0.000000\n",
       "SibSp               0       0.000000\n",
       "Sex                 0       0.000000\n",
       "Name                0       0.000000\n",
       "Pclass              0       0.000000\n",
       "PassengerId         0       0.000000"
      ]
     },
     "execution_count": 6,
     "metadata": {},
     "output_type": "execute_result"
    }
   ],
   "source": [
    "#count total NaN in test dataset\n",
    "totalna = test_df.isnull().sum().sort_values(ascending=False)\n",
    "percentagena = totalna/test_df.shape[0]*100\n",
    "\n",
    "total_percent_df = pd.concat([totalna, percentagena], axis=1)\n",
    "total_percent_df.columns = [\"total na\", \"percentage na\"]\n",
    "\n",
    "total_percent_df"
   ]
  },
  {
   "cell_type": "code",
   "execution_count": 7,
   "metadata": {},
   "outputs": [
    {
     "data": {
      "text/html": [
       "<div>\n",
       "<style scoped>\n",
       "    .dataframe tbody tr th:only-of-type {\n",
       "        vertical-align: middle;\n",
       "    }\n",
       "\n",
       "    .dataframe tbody tr th {\n",
       "        vertical-align: top;\n",
       "    }\n",
       "\n",
       "    .dataframe thead th {\n",
       "        text-align: right;\n",
       "    }\n",
       "</style>\n",
       "<table border=\"1\" class=\"dataframe\">\n",
       "  <thead>\n",
       "    <tr style=\"text-align: right;\">\n",
       "      <th></th>\n",
       "      <th>PassengerId</th>\n",
       "      <th>Survived</th>\n",
       "      <th>Pclass</th>\n",
       "      <th>Name</th>\n",
       "      <th>Sex</th>\n",
       "      <th>Age</th>\n",
       "      <th>SibSp</th>\n",
       "      <th>Parch</th>\n",
       "      <th>Ticket</th>\n",
       "      <th>Fare</th>\n",
       "      <th>Cabin</th>\n",
       "      <th>Embarked</th>\n",
       "    </tr>\n",
       "  </thead>\n",
       "  <tbody>\n",
       "    <tr>\n",
       "      <th>61</th>\n",
       "      <td>62</td>\n",
       "      <td>1</td>\n",
       "      <td>1</td>\n",
       "      <td>Icard, Miss. Amelie</td>\n",
       "      <td>female</td>\n",
       "      <td>38.0</td>\n",
       "      <td>0</td>\n",
       "      <td>0</td>\n",
       "      <td>113572</td>\n",
       "      <td>80.0</td>\n",
       "      <td>B28</td>\n",
       "      <td>NaN</td>\n",
       "    </tr>\n",
       "    <tr>\n",
       "      <th>829</th>\n",
       "      <td>830</td>\n",
       "      <td>1</td>\n",
       "      <td>1</td>\n",
       "      <td>Stone, Mrs. George Nelson (Martha Evelyn)</td>\n",
       "      <td>female</td>\n",
       "      <td>62.0</td>\n",
       "      <td>0</td>\n",
       "      <td>0</td>\n",
       "      <td>113572</td>\n",
       "      <td>80.0</td>\n",
       "      <td>B28</td>\n",
       "      <td>NaN</td>\n",
       "    </tr>\n",
       "  </tbody>\n",
       "</table>\n",
       "</div>"
      ],
      "text/plain": [
       "     PassengerId  Survived  Pclass                                       Name  \\\n",
       "61            62         1       1                        Icard, Miss. Amelie   \n",
       "829          830         1       1  Stone, Mrs. George Nelson (Martha Evelyn)   \n",
       "\n",
       "        Sex   Age  SibSp  Parch  Ticket  Fare Cabin Embarked  \n",
       "61   female  38.0      0      0  113572  80.0   B28      NaN  \n",
       "829  female  62.0      0      0  113572  80.0   B28      NaN  "
      ]
     },
     "execution_count": 7,
     "metadata": {},
     "output_type": "execute_result"
    }
   ],
   "source": [
    "#inspect missing value in train_df's Embarked\n",
    "train_df[train_df.Embarked.isnull()]"
   ]
  },
  {
   "cell_type": "code",
   "execution_count": 8,
   "metadata": {},
   "outputs": [
    {
     "name": "stdout",
     "output_type": "stream",
     "text": [
      "Then for a 1st Passenger class with Cabin B: \n"
     ]
    },
    {
     "data": {
      "text/plain": [
       "C    3\n",
       "S    2\n",
       "Name: Embarked, dtype: int64"
      ]
     },
     "execution_count": 8,
     "metadata": {},
     "output_type": "execute_result"
    },
    {
     "data": {
      "image/png": "[encoded data removed]",
      "text/plain": [
       "<Figure size 576x576 with 1 Axes>"
      ]
     },
     "metadata": {
      "needs_background": "light"
     },
     "output_type": "display_data"
    }
   ],
   "source": [
    "#look at distribution, and see which Embarked group matches the two ladies\n",
    "feats = ['Pclass', 'Embarked', 'Fare']\n",
    "dist_df = pd.concat([train_df[feats], test_df[feats]], axis=0)\n",
    "\n",
    "plt.subplots(figsize=(8,8))\n",
    "sns.boxplot(x='Embarked', y='Fare', hue='Pclass', data=dist_df[dist_df.Fare<200]);\n",
    "plt.title(\"Distribution of embarkation\")\n",
    "\n",
    "print(\"Then for a 1st Passenger class with Cabin B: \")\n",
    "train_df[(train_df.Pclass==1)&(train_df.Cabin.str[0]=='B')&(train_df.Fare>70)&(train_df.Fare<85)].Embarked.value_counts()"
   ]
  },
  {
   "cell_type": "code",
   "execution_count": null,
   "metadata": {},
   "outputs": [],
   "source": [
    "#the ladies are more likely to embark from Cheburg (C), hence fillna() with C\n",
    "train_df.Embarked.fillna('C', inplace=True);\n",
    "print(\"Check if fillna works, number of null in Embarked:\", train_df.Embarked.isnull().sum())"
   ]
  },
  {
   "cell_type": "code",
   "execution_count": null,
   "metadata": {},
   "outputs": [],
   "source": [
    "#inspect mising value in test dataset's Fare\n",
    "test_df[test_df.Fare.isnull()]"
   ]
  },
  {
   "cell_type": "code",
   "execution_count": null,
   "metadata": {},
   "outputs": [],
   "source": [
    "#looking at the above boxplot distribution, the sir is morelikely to pay:\n",
    "mean = train_df[(train_df.Embarked=='S')&(train_df.Pclass==3)].Fare.mean()\n",
    "print(\"Mean Fare for 3rd SocioClass coming from SouthHampton: USD\", mean)\n",
    "\n",
    "#fillna\n",
    "test_df.Fare.fillna(mean, inplace=True)\n",
    "print(\"Check if fillna works, number of null in Fare:\", test_df.Fare.isnull().sum())"
   ]
  },
  {
   "cell_type": "code",
   "execution_count": null,
   "metadata": {},
   "outputs": [],
   "source": [
    "#let's label the Cabin (eg. B28) with it's first letter, drop the number code behind\n",
    "train_df.Cabin = train_df.Cabin.str[0]\n",
    "test_df.Cabin = test_df.Cabin.str[0]\n",
    "\n",
    "#handle missing Cabin\n",
    "train_df.Cabin.fillna('N', inplace=True)\n",
    "test_df.Cabin.fillna('N', inplace=True)\n",
    "\n",
    "#display \n",
    "pd.concat([train_df.Cabin.value_counts(), test_df.Cabin.value_counts()], axis=1)"
   ]
  },
  {
   "cell_type": "code",
   "execution_count": null,
   "metadata": {},
   "outputs": [],
   "source": [
    "#missing Age\n",
    "print(\"Train age percentage missing value:\", train_df.Age.isnull().sum()/train_df.shape[0]*100)\n",
    "print(\"Test age percentage missing value:\", test_df.Age.isnull().sum()/test_df.shape[0]*100)"
   ]
  },
  {
   "cell_type": "markdown",
   "metadata": {},
   "source": [
    "Data Visualisation"
   ]
  },
  {
   "cell_type": "code",
   "execution_count": null,
   "metadata": {},
   "outputs": [],
   "source": [
    "sns.set_style(\"darkgrid\", {\"axes.facecolor\": \".9\"})"
   ]
  },
  {
   "cell_type": "code",
   "execution_count": null,
   "metadata": {},
   "outputs": [],
   "source": [
    "#histogram of age distribution\n",
    "plt.subplots(figsize=(8,6))\n",
    "sns.distplot(pd.concat([train_df, test_df]).Age.dropna(), kde=False, hist=True);"
   ]
  },
  {
   "cell_type": "code",
   "execution_count": null,
   "metadata": {},
   "outputs": [],
   "source": [
    "#countplot Survived and Sex ratio\n",
    "_, axes = plt.subplots(1, 2, figsize=(12, 6))\n",
    "\n",
    "ax = sns.countplot(x='Survived', data=train_df, ax=axes[0])\n",
    "ax = sns.countplot(x='Sex', data=pd.concat([train_df,test_df]), ax=axes[1])"
   ]
  },
  {
   "cell_type": "code",
   "execution_count": null,
   "metadata": {},
   "outputs": [],
   "source": []
  },
  {
   "cell_type": "code",
   "execution_count": null,
   "metadata": {},
   "outputs": [],
   "source": [
    "#Barplot Sex\n",
    "x, y, hue = 'Sex', 'Survival Rate', 'Survived'\n",
    "sex_df = (train_df[hue]\n",
    "          .groupby(train_df[x])\n",
    "          .value_counts(normalize=True)\n",
    "          .rename(y)\n",
    "          .reset_index())\n",
    "\n",
    "#plotting\n",
    "plt.subplots(figsize=(8,6))\n",
    "ax = sns.barplot(x=x, y=y, hue=hue, data=sex_df)\n",
    "plt.title(\"Survival Rate over Gender\")"
   ]
  },
  {
   "cell_type": "code",
   "execution_count": null,
   "metadata": {},
   "outputs": [],
   "source": [
    "# define Barplotting function\n",
    "def barplot_titanic(x, y, hue, data, figsize=(8,6), title=\"Title\", pal=None):\n",
    "    sub_df = (data[hue]\n",
    "                 .groupby(data[x])\n",
    "                 .value_counts(normalize=True)\n",
    "                 .rename(y)\n",
    "                 .reset_index())\n",
    "    plt.subplots(figsize=figsize)\n",
    "    ax = sns.barplot(x=x, y=y, hue=hue, data=sub_df, palette=pal)\n",
    "    plt.title(title)"
   ]
  },
  {
   "cell_type": "code",
   "execution_count": null,
   "metadata": {},
   "outputs": [],
   "source": [
    "#Barplot PClass\n",
    "x, y, hue = 'Pclass', 'Survival Rate', 'Survived'\n",
    "barplot_titanic(x, y, hue, train_df, figsize=(10,8), title='Survival Rate over Socio Economic Class')"
   ]
  },
  {
   "cell_type": "code",
   "execution_count": null,
   "metadata": {},
   "outputs": [],
   "source": [
    "#Barplot PClass\n",
    "x, y, hue = 'Embarked', 'Survival Rate', 'Survived'\n",
    "barplot_titanic(x, y, hue, train_df, figsize=(10,8), title='Survival Rate over Socio Economic Class', pal=None)"
   ]
  },
  {
   "cell_type": "code",
   "execution_count": null,
   "metadata": {},
   "outputs": [],
   "source": [
    "x1, x2, y, group = 'SibSp', 'Parch', 'Survival rate', 'Survived'\n",
    "\n",
    "#Factorplot\n",
    "sibsp_df = (train_df[group]\n",
    "            .groupby(train_df[x1])\n",
    "            .value_counts(normalize=True)\n",
    "            .rename(y)\n",
    "            .reset_index())\n",
    "parch_df = (train_df[group]\n",
    "            .groupby(train_df[x2])\n",
    "            .value_counts(normalize=True)\n",
    "            .rename(y)\n",
    "            .reset_index())\n",
    "\n",
    "#plotting\n",
    "sns.factorplot(x=x1, y=y, data=sibsp_df[sibsp_df.Survived==1]);\n",
    "sns.factorplot(x=x2, y=y, data=parch_df[parch_df.Survived==1]);"
   ]
  },
  {
   "cell_type": "code",
   "execution_count": null,
   "metadata": {},
   "outputs": [],
   "source": [
    "#Kernel Density plot\n",
    "fig, axes = plt.subplots(nrows=1, ncols=2, figsize=(10,6))\n",
    "\n",
    "female_df = train_df[train_df.Sex=='female']\n",
    "male_df = train_df[train_df.Sex=='male']\n",
    "\n",
    "#plotting female\n",
    "ax = sns.distplot(female_df[female_df.Survived==0].Age.dropna(), bins=18, label='not survived', ax=axes[0], kde=False) #female\n",
    "ax = sns.distplot(female_df[female_df.Survived==1].Age.dropna(), bins=18, label='survived', ax=axes[0], kde=False)#female\n",
    "ax.set_title('Female Passenger')\n",
    "ax.legend();\n",
    "\n",
    "#plotting male\n",
    "ax = sns.distplot(male_df[male_df.Survived==0].Age.dropna(), bins=18, label='not survived', ax=axes[1], kde=False) #female\n",
    "ax = sns.distplot(male_df[male_df.Survived==1].Age.dropna(), bins=18, label='survived', ax=axes[1], kde=False)#female\n",
    "ax.set_title('Male Passenger')\n",
    "ax.legend();"
   ]
  },
  {
   "cell_type": "code",
   "execution_count": null,
   "metadata": {},
   "outputs": [],
   "source": [
    "#Joint plot\n",
    "fig = plt.figure(figsize=(12,12))\n",
    "ax = sns.jointplot(x='Age', y='Fare', data=pd.concat([train_df, test_df]), size=10)"
   ]
  },
  {
   "cell_type": "code",
   "execution_count": null,
   "metadata": {},
   "outputs": [],
   "source": [
    "#lmplot\n",
    "ax = sns.lmplot(x='Age', y='Fare', hue='Survived', data=train_df[train_df.Fare<280], size=8)"
   ]
  },
  {
   "cell_type": "code",
   "execution_count": null,
   "metadata": {},
   "outputs": [],
   "source": [
    "#Violin Plot over Fare\n",
    "_, axes = plt.subplots(2, 1, figsize=(10,18), sharex=True)\n",
    "\n",
    "sns.violinplot(x='Pclass', y='Fare', hue='Embarked', hue_order=['S', 'Q', 'C'], data=train_df[train_df.Survived==0], ax=axes[0])\n",
    "plt.xticks([0,1,2], ['upper', 'middle', 'lower'], fontsize=15)\n",
    "plt.title('Fare distribution across Socio-economy class', fontsize=25);\n",
    "\n",
    "sns.violinplot(x='Pclass', y='Fare', hue='Embarked', hue_order=['S', 'Q', 'C'], data=train_df[train_df.Survived==1], ax=axes[1])\n",
    "plt.xticks([0,1,2], ['upper', 'middle', 'lower'], fontsize=15)\n",
    "plt.title('Fare distribution across Socio-economy class', fontsize=25);"
   ]
  },
  {
   "cell_type": "code",
   "execution_count": null,
   "metadata": {},
   "outputs": [],
   "source": [
    "#Violin Plot over Age\n",
    "_, axes = plt.subplots(2, 1, figsize=(10,18), sharex=True)\n",
    "\n",
    "sns.violinplot(x='Pclass', y='Age', hue='Embarked', hue_order=['S', 'Q', 'C'], data=train_df[train_df.Survived==0], ax=axes[0])\n",
    "plt.xticks([0,1,2], ['upper', 'middle', 'lower'], fontsize=15)\n",
    "plt.title('Fare distribution across Socio-economy class', fontsize=25);\n",
    "\n",
    "sns.violinplot(x='Pclass', y='Age', hue='Embarked', hue_order=['S', 'Q', 'C'], data=train_df[train_df.Survived==1], ax=axes[1])\n",
    "plt.xticks([0,1,2], ['upper', 'middle', 'lower'], fontsize=15)\n",
    "plt.title('Fare distribution across Socio-economy class', fontsize=25);"
   ]
  },
  {
   "cell_type": "code",
   "execution_count": null,
   "metadata": {},
   "outputs": [],
   "source": [
    "#Boxplot\n",
    "x, y, col, row = 'Survived', 'Age', 'Pclass', 'Embarked'\n",
    "sns.factorplot(x=x, y=y, col=col, row=row, data=train_df, kind='box', size=5, aspect=.8);"
   ]
  },
  {
   "cell_type": "code",
   "execution_count": null,
   "metadata": {},
   "outputs": [],
   "source": [
    "#Boxplot\n",
    "x, y, col, row = 'Survived', 'Fare', 'Pclass', 'Embarked'\n",
    "sns.factorplot(x=x, y=y, col=col, row=row, data=train_df[train_df.Fare<280], kind='box', size=5, aspect=.8);"
   ]
  },
  {
   "cell_type": "code",
   "execution_count": null,
   "metadata": {},
   "outputs": [],
   "source": [
    "#Correlation\n"
   ]
  }
 ],
 "metadata": {
  "kernelspec": {
   "display_name": "Python 3",
   "language": "python",
   "name": "python3"
  },
  "language_info": {
   "codemirror_mode": {
    "name": "ipython",
    "version": 3
   },
   "file_extension": ".py",
   "mimetype": "text/x-python",
   "name": "python",
   "nbconvert_exporter": "python",
   "pygments_lexer": "ipython3",
   "version": "3.6.4"
  }
 },
 "nbformat": 4,
 "nbformat_minor": 2
}
