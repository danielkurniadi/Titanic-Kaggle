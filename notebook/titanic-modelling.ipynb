{
 "cells": [
  {
   "cell_type": "code",
   "execution_count": 8,
   "metadata": {},
   "outputs": [],
   "source": [
    "import numpy as np\n",
    "import pandas as pd\n",
    "import xgboost as xgb\n",
    "\n",
    "#visualization\n",
    "import matplotlib.pyplot as plt\n",
    "%matplotlib inline\n",
    "import seaborn as sns\n",
    "\n",
    "# Increase default plot size\n",
    "from pylab import rcParams\n",
    "rcParams['figure.figsize'] = (6, 5)\n",
    "\n",
    "#warnings\n",
    "import warnings\n",
    "warnings.filterwarnings('ignore')"
   ]
  },
  {
   "cell_type": "code",
   "execution_count": 9,
   "metadata": {},
   "outputs": [
    {
     "data": {
      "text/html": [
       "<div>\n",
       "<style scoped>\n",
       "    .dataframe tbody tr th:only-of-type {\n",
       "        vertical-align: middle;\n",
       "    }\n",
       "\n",
       "    .dataframe tbody tr th {\n",
       "        vertical-align: top;\n",
       "    }\n",
       "\n",
       "    .dataframe thead th {\n",
       "        text-align: right;\n",
       "    }\n",
       "</style>\n",
       "<table border=\"1\" class=\"dataframe\">\n",
       "  <thead>\n",
       "    <tr style=\"text-align: right;\">\n",
       "      <th></th>\n",
       "      <th>PassengerId</th>\n",
       "      <th>Survived</th>\n",
       "      <th>Pclass</th>\n",
       "      <th>Name</th>\n",
       "      <th>Sex</th>\n",
       "      <th>Age</th>\n",
       "      <th>SibSp</th>\n",
       "      <th>Parch</th>\n",
       "      <th>Ticket</th>\n",
       "      <th>Fare</th>\n",
       "      <th>Cabin</th>\n",
       "      <th>Embarked</th>\n",
       "    </tr>\n",
       "  </thead>\n",
       "  <tbody>\n",
       "    <tr>\n",
       "      <th>0</th>\n",
       "      <td>1</td>\n",
       "      <td>0</td>\n",
       "      <td>3</td>\n",
       "      <td>Braund, Mr. Owen Harris</td>\n",
       "      <td>male</td>\n",
       "      <td>22.0</td>\n",
       "      <td>1</td>\n",
       "      <td>0</td>\n",
       "      <td>A/5 21171</td>\n",
       "      <td>7.2500</td>\n",
       "      <td>NaN</td>\n",
       "      <td>S</td>\n",
       "    </tr>\n",
       "    <tr>\n",
       "      <th>1</th>\n",
       "      <td>2</td>\n",
       "      <td>1</td>\n",
       "      <td>1</td>\n",
       "      <td>Cumings, Mrs. John Bradley (Florence Briggs Th...</td>\n",
       "      <td>female</td>\n",
       "      <td>38.0</td>\n",
       "      <td>1</td>\n",
       "      <td>0</td>\n",
       "      <td>PC 17599</td>\n",
       "      <td>71.2833</td>\n",
       "      <td>C85</td>\n",
       "      <td>C</td>\n",
       "    </tr>\n",
       "    <tr>\n",
       "      <th>2</th>\n",
       "      <td>3</td>\n",
       "      <td>1</td>\n",
       "      <td>3</td>\n",
       "      <td>Heikkinen, Miss. Laina</td>\n",
       "      <td>female</td>\n",
       "      <td>26.0</td>\n",
       "      <td>0</td>\n",
       "      <td>0</td>\n",
       "      <td>STON/O2. 3101282</td>\n",
       "      <td>7.9250</td>\n",
       "      <td>NaN</td>\n",
       "      <td>S</td>\n",
       "    </tr>\n",
       "    <tr>\n",
       "      <th>3</th>\n",
       "      <td>4</td>\n",
       "      <td>1</td>\n",
       "      <td>1</td>\n",
       "      <td>Futrelle, Mrs. Jacques Heath (Lily May Peel)</td>\n",
       "      <td>female</td>\n",
       "      <td>35.0</td>\n",
       "      <td>1</td>\n",
       "      <td>0</td>\n",
       "      <td>113803</td>\n",
       "      <td>53.1000</td>\n",
       "      <td>C123</td>\n",
       "      <td>S</td>\n",
       "    </tr>\n",
       "    <tr>\n",
       "      <th>4</th>\n",
       "      <td>5</td>\n",
       "      <td>0</td>\n",
       "      <td>3</td>\n",
       "      <td>Allen, Mr. William Henry</td>\n",
       "      <td>male</td>\n",
       "      <td>35.0</td>\n",
       "      <td>0</td>\n",
       "      <td>0</td>\n",
       "      <td>373450</td>\n",
       "      <td>8.0500</td>\n",
       "      <td>NaN</td>\n",
       "      <td>S</td>\n",
       "    </tr>\n",
       "  </tbody>\n",
       "</table>\n",
       "</div>"
      ],
      "text/plain": [
       "   PassengerId  Survived  Pclass  \\\n",
       "0            1         0       3   \n",
       "1            2         1       1   \n",
       "2            3         1       3   \n",
       "3            4         1       1   \n",
       "4            5         0       3   \n",
       "\n",
       "                                                Name     Sex   Age  SibSp  \\\n",
       "0                            Braund, Mr. Owen Harris    male  22.0      1   \n",
       "1  Cumings, Mrs. John Bradley (Florence Briggs Th...  female  38.0      1   \n",
       "2                             Heikkinen, Miss. Laina  female  26.0      0   \n",
       "3       Futrelle, Mrs. Jacques Heath (Lily May Peel)  female  35.0      1   \n",
       "4                           Allen, Mr. William Henry    male  35.0      0   \n",
       "\n",
       "   Parch            Ticket     Fare Cabin Embarked  \n",
       "0      0         A/5 21171   7.2500   NaN        S  \n",
       "1      0          PC 17599  71.2833   C85        C  \n",
       "2      0  STON/O2. 3101282   7.9250   NaN        S  \n",
       "3      0            113803  53.1000  C123        S  \n",
       "4      0            373450   8.0500   NaN        S  "
      ]
     },
     "execution_count": 9,
     "metadata": {},
     "output_type": "execute_result"
    }
   ],
   "source": [
    "#load dataset\n",
    "og_train_df = pd.read_csv('../dataset/train.csv')\n",
    "og_test_df = pd.read_csv('../dataset/test.csv')\n",
    "\n",
    "og_train_df.head()"
   ]
  },
  {
   "cell_type": "code",
   "execution_count": 10,
   "metadata": {},
   "outputs": [
    {
     "name": "stdout",
     "output_type": "stream",
     "text": [
      "<class 'pandas.core.frame.DataFrame'>\n",
      "RangeIndex: 891 entries, 0 to 890\n",
      "Data columns (total 12 columns):\n",
      "PassengerId    891 non-null int64\n",
      "Survived       891 non-null int64\n",
      "Pclass         891 non-null int64\n",
      "Name           891 non-null object\n",
      "Sex            891 non-null object\n",
      "Age            714 non-null float64\n",
      "SibSp          891 non-null int64\n",
      "Parch          891 non-null int64\n",
      "Ticket         891 non-null object\n",
      "Fare           891 non-null float64\n",
      "Cabin          204 non-null object\n",
      "Embarked       889 non-null object\n",
      "dtypes: float64(2), int64(5), object(5)\n",
      "memory usage: 83.6+ KB\n"
     ]
    }
   ],
   "source": [
    "#look into data type\n",
    "og_train_df.info()"
   ]
  },
  {
   "cell_type": "markdown",
   "metadata": {},
   "source": [
    "## 1. Data-Preprocessing"
   ]
  },
  {
   "cell_type": "code",
   "execution_count": 11,
   "metadata": {},
   "outputs": [],
   "source": [
    "full_dataset = [og_train_df, og_test_df]"
   ]
  },
  {
   "cell_type": "code",
   "execution_count": 12,
   "metadata": {},
   "outputs": [
    {
     "data": {
      "text/html": [
       "<div>\n",
       "<style scoped>\n",
       "    .dataframe tbody tr th:only-of-type {\n",
       "        vertical-align: middle;\n",
       "    }\n",
       "\n",
       "    .dataframe tbody tr th {\n",
       "        vertical-align: top;\n",
       "    }\n",
       "\n",
       "    .dataframe thead th {\n",
       "        text-align: right;\n",
       "    }\n",
       "</style>\n",
       "<table border=\"1\" class=\"dataframe\">\n",
       "  <thead>\n",
       "    <tr style=\"text-align: right;\">\n",
       "      <th></th>\n",
       "      <th>train - total nan</th>\n",
       "      <th>train - % nan</th>\n",
       "      <th>test - total nan</th>\n",
       "      <th>test - % nan</th>\n",
       "    </tr>\n",
       "  </thead>\n",
       "  <tbody>\n",
       "    <tr>\n",
       "      <th>Age</th>\n",
       "      <td>177</td>\n",
       "      <td>19.865320</td>\n",
       "      <td>86.0</td>\n",
       "      <td>20.574163</td>\n",
       "    </tr>\n",
       "    <tr>\n",
       "      <th>Cabin</th>\n",
       "      <td>687</td>\n",
       "      <td>77.104377</td>\n",
       "      <td>327.0</td>\n",
       "      <td>78.229665</td>\n",
       "    </tr>\n",
       "    <tr>\n",
       "      <th>Embarked</th>\n",
       "      <td>2</td>\n",
       "      <td>0.224467</td>\n",
       "      <td>0.0</td>\n",
       "      <td>0.000000</td>\n",
       "    </tr>\n",
       "    <tr>\n",
       "      <th>Fare</th>\n",
       "      <td>0</td>\n",
       "      <td>0.000000</td>\n",
       "      <td>1.0</td>\n",
       "      <td>0.239234</td>\n",
       "    </tr>\n",
       "    <tr>\n",
       "      <th>Name</th>\n",
       "      <td>0</td>\n",
       "      <td>0.000000</td>\n",
       "      <td>0.0</td>\n",
       "      <td>0.000000</td>\n",
       "    </tr>\n",
       "    <tr>\n",
       "      <th>Parch</th>\n",
       "      <td>0</td>\n",
       "      <td>0.000000</td>\n",
       "      <td>0.0</td>\n",
       "      <td>0.000000</td>\n",
       "    </tr>\n",
       "    <tr>\n",
       "      <th>PassengerId</th>\n",
       "      <td>0</td>\n",
       "      <td>0.000000</td>\n",
       "      <td>0.0</td>\n",
       "      <td>0.000000</td>\n",
       "    </tr>\n",
       "    <tr>\n",
       "      <th>Pclass</th>\n",
       "      <td>0</td>\n",
       "      <td>0.000000</td>\n",
       "      <td>0.0</td>\n",
       "      <td>0.000000</td>\n",
       "    </tr>\n",
       "    <tr>\n",
       "      <th>Sex</th>\n",
       "      <td>0</td>\n",
       "      <td>0.000000</td>\n",
       "      <td>0.0</td>\n",
       "      <td>0.000000</td>\n",
       "    </tr>\n",
       "    <tr>\n",
       "      <th>SibSp</th>\n",
       "      <td>0</td>\n",
       "      <td>0.000000</td>\n",
       "      <td>0.0</td>\n",
       "      <td>0.000000</td>\n",
       "    </tr>\n",
       "    <tr>\n",
       "      <th>Survived</th>\n",
       "      <td>0</td>\n",
       "      <td>0.000000</td>\n",
       "      <td>NaN</td>\n",
       "      <td>NaN</td>\n",
       "    </tr>\n",
       "    <tr>\n",
       "      <th>Ticket</th>\n",
       "      <td>0</td>\n",
       "      <td>0.000000</td>\n",
       "      <td>0.0</td>\n",
       "      <td>0.000000</td>\n",
       "    </tr>\n",
       "  </tbody>\n",
       "</table>\n",
       "</div>"
      ],
      "text/plain": [
       "             train - total nan  train - % nan  test - total nan  test - % nan\n",
       "Age                        177      19.865320              86.0     20.574163\n",
       "Cabin                      687      77.104377             327.0     78.229665\n",
       "Embarked                     2       0.224467               0.0      0.000000\n",
       "Fare                         0       0.000000               1.0      0.239234\n",
       "Name                         0       0.000000               0.0      0.000000\n",
       "Parch                        0       0.000000               0.0      0.000000\n",
       "PassengerId                  0       0.000000               0.0      0.000000\n",
       "Pclass                       0       0.000000               0.0      0.000000\n",
       "Sex                          0       0.000000               0.0      0.000000\n",
       "SibSp                        0       0.000000               0.0      0.000000\n",
       "Survived                     0       0.000000               NaN           NaN\n",
       "Ticket                       0       0.000000               0.0      0.000000"
      ]
     },
     "execution_count": 12,
     "metadata": {},
     "output_type": "execute_result"
    }
   ],
   "source": [
    "#inspect missing values\n",
    "def frame_missing(df):\n",
    "    total = df.isnull().sum().sort_values(ascending=False)\n",
    "    percent = total/df.shape[0]*100\n",
    "    miss_df =  pd.concat([total, percent], axis=1)\n",
    "    return miss_df\n",
    "\n",
    "miss_train = frame_missing(og_train_df)\n",
    "miss_train.columns = [\"train - total nan\", \"train - % nan\"]\n",
    "\n",
    "miss_test = frame_missing(og_test_df)\n",
    "miss_test.columns = [\"test - total nan\", \"test - % nan\"]\n",
    "\n",
    "pd.concat([miss_train, miss_test], axis=1)"
   ]
  },
  {
   "cell_type": "code",
   "execution_count": 13,
   "metadata": {},
   "outputs": [
    {
     "data": {
      "text/plain": [
       "0"
      ]
     },
     "execution_count": 13,
     "metadata": {},
     "output_type": "execute_result"
    }
   ],
   "source": [
    "#fill missing embarked values - train df\n",
    "og_train_df.Embarked.fillna(value='C', inplace=True)\n",
    "og_train_df.Embarked.isnull().sum()"
   ]
  },
  {
   "cell_type": "code",
   "execution_count": 14,
   "metadata": {},
   "outputs": [
    {
     "data": {
      "text/html": [
       "<div>\n",
       "<style scoped>\n",
       "    .dataframe tbody tr th:only-of-type {\n",
       "        vertical-align: middle;\n",
       "    }\n",
       "\n",
       "    .dataframe tbody tr th {\n",
       "        vertical-align: top;\n",
       "    }\n",
       "\n",
       "    .dataframe thead th {\n",
       "        text-align: right;\n",
       "    }\n",
       "</style>\n",
       "<table border=\"1\" class=\"dataframe\">\n",
       "  <thead>\n",
       "    <tr style=\"text-align: right;\">\n",
       "      <th></th>\n",
       "      <th>PassengerId</th>\n",
       "      <th>Pclass</th>\n",
       "      <th>Name</th>\n",
       "      <th>Sex</th>\n",
       "      <th>Age</th>\n",
       "      <th>SibSp</th>\n",
       "      <th>Parch</th>\n",
       "      <th>Ticket</th>\n",
       "      <th>Fare</th>\n",
       "      <th>Cabin</th>\n",
       "      <th>Embarked</th>\n",
       "    </tr>\n",
       "  </thead>\n",
       "  <tbody>\n",
       "    <tr>\n",
       "      <th>152</th>\n",
       "      <td>1044</td>\n",
       "      <td>3</td>\n",
       "      <td>Storey, Mr. Thomas</td>\n",
       "      <td>male</td>\n",
       "      <td>60.5</td>\n",
       "      <td>0</td>\n",
       "      <td>0</td>\n",
       "      <td>3701</td>\n",
       "      <td>NaN</td>\n",
       "      <td>NaN</td>\n",
       "      <td>S</td>\n",
       "    </tr>\n",
       "  </tbody>\n",
       "</table>\n",
       "</div>"
      ],
      "text/plain": [
       "     PassengerId  Pclass                Name   Sex   Age  SibSp  Parch Ticket  \\\n",
       "152         1044       3  Storey, Mr. Thomas  male  60.5      0      0   3701   \n",
       "\n",
       "     Fare Cabin Embarked  \n",
       "152   NaN   NaN        S  "
      ]
     },
     "execution_count": 14,
     "metadata": {},
     "output_type": "execute_result"
    }
   ],
   "source": [
    "#inspect mising value in test dataset's Fare\n",
    "og_test_df[og_test_df.Fare.isnull()]"
   ]
  },
  {
   "cell_type": "code",
   "execution_count": 15,
   "metadata": {},
   "outputs": [
    {
     "name": "stdout",
     "output_type": "stream",
     "text": [
      "Mean Fare for 3rd SocioClass coming from SouthHampton: USD 14.644083002832863\n",
      "Check if fillna works, number of null in Fare: 0\n"
     ]
    }
   ],
   "source": [
    "#looking at the distribution, the sir is morelikely to pay:\n",
    "mean = og_train_df[(og_train_df.Embarked=='S')&(og_train_df.Pclass==3)].Fare.mean()\n",
    "print(\"Mean Fare for 3rd SocioClass coming from SouthHampton: USD\", mean)\n",
    "\n",
    "#fillna\n",
    "og_test_df.Fare.fillna(mean, inplace=True)\n",
    "print(\"Check if fillna works, number of null in Fare:\", og_test_df.Fare.isnull().sum())"
   ]
  },
  {
   "cell_type": "code",
   "execution_count": 16,
   "metadata": {},
   "outputs": [],
   "source": [
    "#drop all cabin feature - lots of missing value\n",
    "for df in full_dataset:\n",
    "    df.drop(['Cabin'], axis=1, inplace=True)"
   ]
  },
  {
   "cell_type": "code",
   "execution_count": 17,
   "metadata": {},
   "outputs": [
    {
     "data": {
      "text/html": [
       "<div>\n",
       "<style scoped>\n",
       "    .dataframe tbody tr th:only-of-type {\n",
       "        vertical-align: middle;\n",
       "    }\n",
       "\n",
       "    .dataframe tbody tr th {\n",
       "        vertical-align: top;\n",
       "    }\n",
       "\n",
       "    .dataframe thead th {\n",
       "        text-align: right;\n",
       "    }\n",
       "</style>\n",
       "<table border=\"1\" class=\"dataframe\">\n",
       "  <thead>\n",
       "    <tr style=\"text-align: right;\">\n",
       "      <th></th>\n",
       "      <th>PassengerId</th>\n",
       "      <th>Survived</th>\n",
       "      <th>Pclass</th>\n",
       "      <th>Name</th>\n",
       "      <th>Sex</th>\n",
       "      <th>Age</th>\n",
       "      <th>SibSp</th>\n",
       "      <th>Parch</th>\n",
       "      <th>Ticket</th>\n",
       "      <th>Fare</th>\n",
       "      <th>Embarked</th>\n",
       "    </tr>\n",
       "  </thead>\n",
       "  <tbody>\n",
       "    <tr>\n",
       "      <th>0</th>\n",
       "      <td>1</td>\n",
       "      <td>0</td>\n",
       "      <td>3</td>\n",
       "      <td>Braund, Mr. Owen Harris</td>\n",
       "      <td>male</td>\n",
       "      <td>22.0</td>\n",
       "      <td>1</td>\n",
       "      <td>0</td>\n",
       "      <td>A/5 21171</td>\n",
       "      <td>7.2500</td>\n",
       "      <td>S</td>\n",
       "    </tr>\n",
       "    <tr>\n",
       "      <th>1</th>\n",
       "      <td>2</td>\n",
       "      <td>1</td>\n",
       "      <td>1</td>\n",
       "      <td>Cumings, Mrs. John Bradley (Florence Briggs Th...</td>\n",
       "      <td>female</td>\n",
       "      <td>38.0</td>\n",
       "      <td>1</td>\n",
       "      <td>0</td>\n",
       "      <td>PC 17599</td>\n",
       "      <td>71.2833</td>\n",
       "      <td>C</td>\n",
       "    </tr>\n",
       "    <tr>\n",
       "      <th>2</th>\n",
       "      <td>3</td>\n",
       "      <td>1</td>\n",
       "      <td>3</td>\n",
       "      <td>Heikkinen, Miss. Laina</td>\n",
       "      <td>female</td>\n",
       "      <td>26.0</td>\n",
       "      <td>0</td>\n",
       "      <td>0</td>\n",
       "      <td>STON/O2. 3101282</td>\n",
       "      <td>7.9250</td>\n",
       "      <td>S</td>\n",
       "    </tr>\n",
       "    <tr>\n",
       "      <th>3</th>\n",
       "      <td>4</td>\n",
       "      <td>1</td>\n",
       "      <td>1</td>\n",
       "      <td>Futrelle, Mrs. Jacques Heath (Lily May Peel)</td>\n",
       "      <td>female</td>\n",
       "      <td>35.0</td>\n",
       "      <td>1</td>\n",
       "      <td>0</td>\n",
       "      <td>113803</td>\n",
       "      <td>53.1000</td>\n",
       "      <td>S</td>\n",
       "    </tr>\n",
       "    <tr>\n",
       "      <th>4</th>\n",
       "      <td>5</td>\n",
       "      <td>0</td>\n",
       "      <td>3</td>\n",
       "      <td>Allen, Mr. William Henry</td>\n",
       "      <td>male</td>\n",
       "      <td>35.0</td>\n",
       "      <td>0</td>\n",
       "      <td>0</td>\n",
       "      <td>373450</td>\n",
       "      <td>8.0500</td>\n",
       "      <td>S</td>\n",
       "    </tr>\n",
       "  </tbody>\n",
       "</table>\n",
       "</div>"
      ],
      "text/plain": [
       "   PassengerId  Survived  Pclass  \\\n",
       "0            1         0       3   \n",
       "1            2         1       1   \n",
       "2            3         1       3   \n",
       "3            4         1       1   \n",
       "4            5         0       3   \n",
       "\n",
       "                                                Name     Sex   Age  SibSp  \\\n",
       "0                            Braund, Mr. Owen Harris    male  22.0      1   \n",
       "1  Cumings, Mrs. John Bradley (Florence Briggs Th...  female  38.0      1   \n",
       "2                             Heikkinen, Miss. Laina  female  26.0      0   \n",
       "3       Futrelle, Mrs. Jacques Heath (Lily May Peel)  female  35.0      1   \n",
       "4                           Allen, Mr. William Henry    male  35.0      0   \n",
       "\n",
       "   Parch            Ticket     Fare Embarked  \n",
       "0      0         A/5 21171   7.2500        S  \n",
       "1      0          PC 17599  71.2833        C  \n",
       "2      0  STON/O2. 3101282   7.9250        S  \n",
       "3      0            113803  53.1000        S  \n",
       "4      0            373450   8.0500        S  "
      ]
     },
     "execution_count": 17,
     "metadata": {},
     "output_type": "execute_result"
    }
   ],
   "source": [
    "#everything is cleaned except Age\n",
    "cln_train_df = og_train_df\n",
    "cln_test_df = og_test_df\n",
    "\n",
    "cln_train_df.head()"
   ]
  },
  {
   "cell_type": "code",
   "execution_count": 18,
   "metadata": {},
   "outputs": [],
   "source": [
    "full_dataset = [cln_train_df, cln_test_df]"
   ]
  },
  {
   "cell_type": "code",
   "execution_count": 19,
   "metadata": {},
   "outputs": [
    {
     "name": "stdout",
     "output_type": "stream",
     "text": [
      "Shape of our train dataset:  (891, 11)\n",
      "Shape of our test dataset:  (418, 10)\n"
     ]
    }
   ],
   "source": [
    "print(\"Shape of our train dataset: \", cln_train_df.shape)\n",
    "print(\"Shape of our test dataset: \", cln_test_df.shape)"
   ]
  },
  {
   "cell_type": "markdown",
   "metadata": {},
   "source": [
    "### 1.2 Add Useful Features\n",
    "Arguably useful. We extract more information from raw features given to us at the first place to help our model learn with additional feature..."
   ]
  },
  {
   "cell_type": "markdown",
   "metadata": {},
   "source": [
    "#### 1. Family Size: `SibSp + Parch + 1`\n",
    "   - Indicate family size that traveled together\n",
    "   - family size = 1 means traveling alone"
   ]
  },
  {
   "cell_type": "code",
   "execution_count": 20,
   "metadata": {},
   "outputs": [],
   "source": [
    "#create Family size feature\n",
    "for df in full_dataset:\n",
    "    df['Family_size'] = df['SibSp'] + df['Parch'] + 1"
   ]
  },
  {
   "cell_type": "markdown",
   "metadata": {},
   "source": [
    "#### 2. Name Title: \n",
    "    - RARE - MISS - MAM - MR\n",
    "    - Indicate if the person is important/layman based on name title\n"
   ]
  },
  {
   "cell_type": "code",
   "execution_count": 21,
   "metadata": {},
   "outputs": [],
   "source": [
    "import re\n",
    "\n",
    "#create Title feature\n",
    "def get_title(name):\n",
    "    title_search = re.search(' ([A-Za-z]+)\\. ', name)\n",
    "    if title_search:\n",
    "        return title_search.group(1)\n",
    "    return \"\"\n",
    "\n",
    "for df in full_dataset:\n",
    "    df['Title'] = df['Name'].apply(get_title)"
   ]
  },
  {
   "cell_type": "code",
   "execution_count": 22,
   "metadata": {},
   "outputs": [
    {
     "data": {
      "text/plain": [
       "Mr          517\n",
       "Miss        182\n",
       "Mrs         125\n",
       "Master       40\n",
       "Dr            7\n",
       "Rev           6\n",
       "Major         2\n",
       "Col           2\n",
       "Mlle          2\n",
       "Sir           1\n",
       "Countess      1\n",
       "Lady          1\n",
       "Capt          1\n",
       "Don           1\n",
       "Ms            1\n",
       "Jonkheer      1\n",
       "Mme           1\n",
       "Name: Title, dtype: int64"
      ]
     },
     "execution_count": 22,
     "metadata": {},
     "output_type": "execute_result"
    }
   ],
   "source": [
    "#unique titles\n",
    "cln_train_df.Title.value_counts()"
   ]
  },
  {
   "cell_type": "code",
   "execution_count": 26,
   "metadata": {},
   "outputs": [],
   "source": [
    "rare_title = ['Master', 'Dr', 'Rev', 'Major', 'Col','Jonkheer', 'Sir', 'Capt', 'Don', 'Countess', 'Lady', 'Dona']\n",
    "miss_title = ['Miss', 'Mlle', 'Ms']\n",
    "madam_title = ['Mrs', 'Mme']\n",
    "man_title = ['Mr']\n",
    "\n",
    "#group title to rare and common\n",
    "for df in full_dataset:\n",
    "    df['Title'] = df['Title'].replace(rare_title, 'RARE')\n",
    "    df['Title'] = df['Title'].replace(miss_title, 'MISS')\n",
    "    df['Title'] = df['Title'].replace(madam_title, 'MAM')\n",
    "    df['Title'] = df['Title'].replace(man_title, 'MR')"
   ]
  },
  {
   "cell_type": "code",
   "execution_count": 27,
   "metadata": {},
   "outputs": [
    {
     "data": {
      "text/plain": [
       "MR      517\n",
       "MISS    185\n",
       "MAM     126\n",
       "RARE     63\n",
       "Name: Title, dtype: int64"
      ]
     },
     "execution_count": 27,
     "metadata": {},
     "output_type": "execute_result"
    }
   ],
   "source": [
    "cln_train_df.Title.value_counts(dropna=False)"
   ]
  },
  {
   "cell_type": "code",
   "execution_count": 28,
   "metadata": {},
   "outputs": [
    {
     "data": {
      "text/plain": [
       "MR      240\n",
       "MISS     79\n",
       "MAM      72\n",
       "RARE     27\n",
       "Name: Title, dtype: int64"
      ]
     },
     "execution_count": 28,
     "metadata": {},
     "output_type": "execute_result"
    }
   ],
   "source": [
    "cln_test_df.Title.value_counts(dropna=True)"
   ]
  },
  {
   "cell_type": "markdown",
   "metadata": {},
   "source": [
    "#### 3. Binning Age:\n",
    "    - Group age of certain range together"
   ]
  },
  {
   "cell_type": "code",
   "execution_count": 29,
   "metadata": {},
   "outputs": [],
   "source": [
    "#create age binning\n",
    "for df in full_dataset:\n",
    "    df['Age_bin'] = pd.cut(df['Age'], \n",
    "                           bins=[0,13,25,50,120], \n",
    "                           labels=['CHILD', 'TEEN', 'ADULT', 'ELDER'])"
   ]
  },
  {
   "cell_type": "markdown",
   "metadata": {},
   "source": [
    "#### 4. Binning Fare\n",
    "    - Group passenger fare of certain range together"
   ]
  },
  {
   "cell_type": "code",
   "execution_count": 30,
   "metadata": {},
   "outputs": [],
   "source": [
    "#create fares binning\n",
    "for df in full_dataset:\n",
    "    df['Fare_bin'] = pd.cut(df['Fare'],\n",
    "                           bins=[-0.01,7.91,14.45,31,50,600],\n",
    "                           labels=['VERY_CHEAP', 'CHEAP', 'FAIR', 'EXPV', 'VERY_EXPV'])"
   ]
  },
  {
   "cell_type": "markdown",
   "metadata": {},
   "source": [
    "### 1.3 Drop Useless Features\n",
    "We can drop feature that is obviously not usefull. For example, passengerId and Ticket code most likely has nothing to do with Survival rate of a given passenger. "
   ]
  },
  {
   "cell_type": "code",
   "execution_count": 31,
   "metadata": {},
   "outputs": [],
   "source": [
    "#in case we need for submission index\n",
    "submission_index = cln_test_df.PassengerId"
   ]
  },
  {
   "cell_type": "code",
   "execution_count": 32,
   "metadata": {},
   "outputs": [],
   "source": [
    "#drop useless features\n",
    "drop_feats = ['PassengerId', 'Name', 'Ticket']\n",
    "for df in full_dataset:\n",
    "    df.drop(drop_feats, axis=1, inplace=True)"
   ]
  },
  {
   "cell_type": "markdown",
   "metadata": {},
   "source": [
    "### 1.3 Feature Encoding\n",
    "Represent binned/categorical features to Ordinal or One-hot Encoding so that our model can understand"
   ]
  },
  {
   "cell_type": "code",
   "execution_count": 33,
   "metadata": {},
   "outputs": [
    {
     "data": {
      "text/html": [
       "<div>\n",
       "<style scoped>\n",
       "    .dataframe tbody tr th:only-of-type {\n",
       "        vertical-align: middle;\n",
       "    }\n",
       "\n",
       "    .dataframe tbody tr th {\n",
       "        vertical-align: top;\n",
       "    }\n",
       "\n",
       "    .dataframe thead th {\n",
       "        text-align: right;\n",
       "    }\n",
       "</style>\n",
       "<table border=\"1\" class=\"dataframe\">\n",
       "  <thead>\n",
       "    <tr style=\"text-align: right;\">\n",
       "      <th></th>\n",
       "      <th>Survived</th>\n",
       "      <th>Pclass</th>\n",
       "      <th>Sex</th>\n",
       "      <th>Age</th>\n",
       "      <th>SibSp</th>\n",
       "      <th>Parch</th>\n",
       "      <th>Fare</th>\n",
       "      <th>Embarked</th>\n",
       "      <th>Family_size</th>\n",
       "      <th>Title</th>\n",
       "      <th>Age_bin</th>\n",
       "      <th>Fare_bin</th>\n",
       "    </tr>\n",
       "  </thead>\n",
       "  <tbody>\n",
       "    <tr>\n",
       "      <th>0</th>\n",
       "      <td>0</td>\n",
       "      <td>3</td>\n",
       "      <td>male</td>\n",
       "      <td>22.0</td>\n",
       "      <td>1</td>\n",
       "      <td>0</td>\n",
       "      <td>7.2500</td>\n",
       "      <td>S</td>\n",
       "      <td>2</td>\n",
       "      <td>MR</td>\n",
       "      <td>TEEN</td>\n",
       "      <td>VERY_CHEAP</td>\n",
       "    </tr>\n",
       "    <tr>\n",
       "      <th>1</th>\n",
       "      <td>1</td>\n",
       "      <td>1</td>\n",
       "      <td>female</td>\n",
       "      <td>38.0</td>\n",
       "      <td>1</td>\n",
       "      <td>0</td>\n",
       "      <td>71.2833</td>\n",
       "      <td>C</td>\n",
       "      <td>2</td>\n",
       "      <td>MAM</td>\n",
       "      <td>ADULT</td>\n",
       "      <td>VERY_EXPV</td>\n",
       "    </tr>\n",
       "    <tr>\n",
       "      <th>2</th>\n",
       "      <td>1</td>\n",
       "      <td>3</td>\n",
       "      <td>female</td>\n",
       "      <td>26.0</td>\n",
       "      <td>0</td>\n",
       "      <td>0</td>\n",
       "      <td>7.9250</td>\n",
       "      <td>S</td>\n",
       "      <td>1</td>\n",
       "      <td>MISS</td>\n",
       "      <td>ADULT</td>\n",
       "      <td>CHEAP</td>\n",
       "    </tr>\n",
       "    <tr>\n",
       "      <th>3</th>\n",
       "      <td>1</td>\n",
       "      <td>1</td>\n",
       "      <td>female</td>\n",
       "      <td>35.0</td>\n",
       "      <td>1</td>\n",
       "      <td>0</td>\n",
       "      <td>53.1000</td>\n",
       "      <td>S</td>\n",
       "      <td>2</td>\n",
       "      <td>MAM</td>\n",
       "      <td>ADULT</td>\n",
       "      <td>VERY_EXPV</td>\n",
       "    </tr>\n",
       "    <tr>\n",
       "      <th>4</th>\n",
       "      <td>0</td>\n",
       "      <td>3</td>\n",
       "      <td>male</td>\n",
       "      <td>35.0</td>\n",
       "      <td>0</td>\n",
       "      <td>0</td>\n",
       "      <td>8.0500</td>\n",
       "      <td>S</td>\n",
       "      <td>1</td>\n",
       "      <td>MR</td>\n",
       "      <td>ADULT</td>\n",
       "      <td>CHEAP</td>\n",
       "    </tr>\n",
       "  </tbody>\n",
       "</table>\n",
       "</div>"
      ],
      "text/plain": [
       "   Survived  Pclass     Sex   Age  SibSp  Parch     Fare Embarked  \\\n",
       "0         0       3    male  22.0      1      0   7.2500        S   \n",
       "1         1       1  female  38.0      1      0  71.2833        C   \n",
       "2         1       3  female  26.0      0      0   7.9250        S   \n",
       "3         1       1  female  35.0      1      0  53.1000        S   \n",
       "4         0       3    male  35.0      0      0   8.0500        S   \n",
       "\n",
       "   Family_size Title Age_bin    Fare_bin  \n",
       "0            2    MR    TEEN  VERY_CHEAP  \n",
       "1            2   MAM   ADULT   VERY_EXPV  \n",
       "2            1  MISS   ADULT       CHEAP  \n",
       "3            2   MAM   ADULT   VERY_EXPV  \n",
       "4            1    MR   ADULT       CHEAP  "
      ]
     },
     "execution_count": 33,
     "metadata": {},
     "output_type": "execute_result"
    }
   ],
   "source": [
    "cln_train_df.head()"
   ]
  },
  {
   "cell_type": "markdown",
   "metadata": {},
   "source": [
    "#### Get Dummies a.k.a One-Hot Encoding\n",
    "One-Hot Encoding transform categorical data which is written in string representation, to dummies representation."
   ]
  },
  {
   "cell_type": "code",
   "execution_count": 34,
   "metadata": {},
   "outputs": [
    {
     "data": {
      "text/html": [
       "<div>\n",
       "<style scoped>\n",
       "    .dataframe tbody tr th:only-of-type {\n",
       "        vertical-align: middle;\n",
       "    }\n",
       "\n",
       "    .dataframe tbody tr th {\n",
       "        vertical-align: top;\n",
       "    }\n",
       "\n",
       "    .dataframe thead th {\n",
       "        text-align: right;\n",
       "    }\n",
       "</style>\n",
       "<table border=\"1\" class=\"dataframe\">\n",
       "  <thead>\n",
       "    <tr style=\"text-align: right;\">\n",
       "      <th></th>\n",
       "      <th>Survived</th>\n",
       "      <th>Pclass</th>\n",
       "      <th>Sex</th>\n",
       "      <th>Age</th>\n",
       "      <th>SibSp</th>\n",
       "      <th>Parch</th>\n",
       "      <th>Fare</th>\n",
       "      <th>Embarked</th>\n",
       "      <th>Family_size</th>\n",
       "      <th>Title</th>\n",
       "      <th>...</th>\n",
       "      <th>Sex_male</th>\n",
       "      <th>Title_MISS</th>\n",
       "      <th>Title_MR</th>\n",
       "      <th>Title_RARE</th>\n",
       "      <th>Fare_bin_CHEAP</th>\n",
       "      <th>Fare_bin_FAIR</th>\n",
       "      <th>Fare_bin_EXPV</th>\n",
       "      <th>Fare_bin_VERY_EXPV</th>\n",
       "      <th>Embarked_Q</th>\n",
       "      <th>Embarked_S</th>\n",
       "    </tr>\n",
       "  </thead>\n",
       "  <tbody>\n",
       "    <tr>\n",
       "      <th>0</th>\n",
       "      <td>0</td>\n",
       "      <td>3</td>\n",
       "      <td>male</td>\n",
       "      <td>22.0</td>\n",
       "      <td>1</td>\n",
       "      <td>0</td>\n",
       "      <td>7.2500</td>\n",
       "      <td>S</td>\n",
       "      <td>2</td>\n",
       "      <td>MR</td>\n",
       "      <td>...</td>\n",
       "      <td>1</td>\n",
       "      <td>0</td>\n",
       "      <td>1</td>\n",
       "      <td>0</td>\n",
       "      <td>0</td>\n",
       "      <td>0</td>\n",
       "      <td>0</td>\n",
       "      <td>0</td>\n",
       "      <td>0</td>\n",
       "      <td>1</td>\n",
       "    </tr>\n",
       "    <tr>\n",
       "      <th>1</th>\n",
       "      <td>1</td>\n",
       "      <td>1</td>\n",
       "      <td>female</td>\n",
       "      <td>38.0</td>\n",
       "      <td>1</td>\n",
       "      <td>0</td>\n",
       "      <td>71.2833</td>\n",
       "      <td>C</td>\n",
       "      <td>2</td>\n",
       "      <td>MAM</td>\n",
       "      <td>...</td>\n",
       "      <td>0</td>\n",
       "      <td>0</td>\n",
       "      <td>0</td>\n",
       "      <td>0</td>\n",
       "      <td>0</td>\n",
       "      <td>0</td>\n",
       "      <td>0</td>\n",
       "      <td>1</td>\n",
       "      <td>0</td>\n",
       "      <td>0</td>\n",
       "    </tr>\n",
       "    <tr>\n",
       "      <th>2</th>\n",
       "      <td>1</td>\n",
       "      <td>3</td>\n",
       "      <td>female</td>\n",
       "      <td>26.0</td>\n",
       "      <td>0</td>\n",
       "      <td>0</td>\n",
       "      <td>7.9250</td>\n",
       "      <td>S</td>\n",
       "      <td>1</td>\n",
       "      <td>MISS</td>\n",
       "      <td>...</td>\n",
       "      <td>0</td>\n",
       "      <td>1</td>\n",
       "      <td>0</td>\n",
       "      <td>0</td>\n",
       "      <td>1</td>\n",
       "      <td>0</td>\n",
       "      <td>0</td>\n",
       "      <td>0</td>\n",
       "      <td>0</td>\n",
       "      <td>1</td>\n",
       "    </tr>\n",
       "    <tr>\n",
       "      <th>3</th>\n",
       "      <td>1</td>\n",
       "      <td>1</td>\n",
       "      <td>female</td>\n",
       "      <td>35.0</td>\n",
       "      <td>1</td>\n",
       "      <td>0</td>\n",
       "      <td>53.1000</td>\n",
       "      <td>S</td>\n",
       "      <td>2</td>\n",
       "      <td>MAM</td>\n",
       "      <td>...</td>\n",
       "      <td>0</td>\n",
       "      <td>0</td>\n",
       "      <td>0</td>\n",
       "      <td>0</td>\n",
       "      <td>0</td>\n",
       "      <td>0</td>\n",
       "      <td>0</td>\n",
       "      <td>1</td>\n",
       "      <td>0</td>\n",
       "      <td>1</td>\n",
       "    </tr>\n",
       "    <tr>\n",
       "      <th>4</th>\n",
       "      <td>0</td>\n",
       "      <td>3</td>\n",
       "      <td>male</td>\n",
       "      <td>35.0</td>\n",
       "      <td>0</td>\n",
       "      <td>0</td>\n",
       "      <td>8.0500</td>\n",
       "      <td>S</td>\n",
       "      <td>1</td>\n",
       "      <td>MR</td>\n",
       "      <td>...</td>\n",
       "      <td>1</td>\n",
       "      <td>0</td>\n",
       "      <td>1</td>\n",
       "      <td>0</td>\n",
       "      <td>1</td>\n",
       "      <td>0</td>\n",
       "      <td>0</td>\n",
       "      <td>0</td>\n",
       "      <td>0</td>\n",
       "      <td>1</td>\n",
       "    </tr>\n",
       "  </tbody>\n",
       "</table>\n",
       "<p>5 rows × 22 columns</p>\n",
       "</div>"
      ],
      "text/plain": [
       "   Survived  Pclass     Sex   Age  SibSp  Parch     Fare Embarked  \\\n",
       "0         0       3    male  22.0      1      0   7.2500        S   \n",
       "1         1       1  female  38.0      1      0  71.2833        C   \n",
       "2         1       3  female  26.0      0      0   7.9250        S   \n",
       "3         1       1  female  35.0      1      0  53.1000        S   \n",
       "4         0       3    male  35.0      0      0   8.0500        S   \n",
       "\n",
       "   Family_size Title  ... Sex_male Title_MISS  Title_MR  Title_RARE  \\\n",
       "0            2    MR  ...        1          0         1           0   \n",
       "1            2   MAM  ...        0          0         0           0   \n",
       "2            1  MISS  ...        0          1         0           0   \n",
       "3            2   MAM  ...        0          0         0           0   \n",
       "4            1    MR  ...        1          0         1           0   \n",
       "\n",
       "   Fare_bin_CHEAP  Fare_bin_FAIR  Fare_bin_EXPV  Fare_bin_VERY_EXPV  \\\n",
       "0               0              0              0                   0   \n",
       "1               0              0              0                   1   \n",
       "2               1              0              0                   0   \n",
       "3               0              0              0                   1   \n",
       "4               1              0              0                   0   \n",
       "\n",
       "   Embarked_Q  Embarked_S  \n",
       "0           0           1  \n",
       "1           0           0  \n",
       "2           0           1  \n",
       "3           0           1  \n",
       "4           0           1  \n",
       "\n",
       "[5 rows x 22 columns]"
      ]
     },
     "execution_count": 34,
     "metadata": {},
     "output_type": "execute_result"
    }
   ],
   "source": [
    "cat_feats = ['Sex', 'Title', 'Fare_bin', 'Embarked']\n",
    "\n",
    "#one-hot train\n",
    "one_hots = pd.get_dummies(cln_train_df[cat_feats], drop_first=True)\n",
    "cln_train_df = cln_train_df.join(one_hots)\n",
    "#one-hot test\n",
    "one_hots= pd.get_dummies(cln_test_df[cat_feats], drop_first=True)\n",
    "cln_test_df = cln_test_df.join(one_hots)\n",
    "\n",
    "cln_train_df.head()"
   ]
  },
  {
   "cell_type": "markdown",
   "metadata": {},
   "source": [
    "### 1.4 Handle Missing Age with Regression Model"
   ]
  },
  {
   "cell_type": "code",
   "execution_count": 35,
   "metadata": {},
   "outputs": [],
   "source": [
    "from sklearn.ensemble import RandomForestRegressor\n",
    "from sklearn.model_selection import cross_val_score\n",
    "\n",
    "def fill_age_regression(df, feats):\n",
    "    age_X_train, age_y_train = df[df.Age.notnull()].loc[:, feats], df[df.Age.notnull()].Age\n",
    "    age_index = df[df.Age.isnull()].index\n",
    "    age_X_task = df[df.Age.isnull()].loc[:, feats]\n",
    "    r_forest_reg = RandomForestRegressor(n_estimators=200, n_jobs=4, max_depth=6, oob_score=True)\n",
    "    r_forest_reg.fit(age_X_train, age_y_train)\n",
    "    #evaluate\n",
    "    train_scores = cross_val_score(r_forest_reg, age_X_train, age_y_train,\n",
    "                        scoring=\"neg_mean_squared_error\", cv=10)\n",
    "    print(\"Training accuracy score: \", train_scores.mean())\n",
    "    #output prediction\n",
    "    y_pred_ser = pd.Series(r_forest_reg.predict(age_X_task), index=age_index)\n",
    "    return y_pred_ser"
   ]
  },
  {
   "cell_type": "code",
   "execution_count": 36,
   "metadata": {},
   "outputs": [
    {
     "name": "stdout",
     "output_type": "stream",
     "text": [
      "Training accuracy score:  -126.5819284366742\n"
     ]
    }
   ],
   "source": [
    "#fillna Age on training dataset\n",
    "reg_feats = ['Sex_male', 'Survived', 'Embarked_Q', 'Embarked_S','Pclass', 'Title_MISS',\n",
    "             'Title_MR', 'Title_RARE', 'Family_size', 'Parch']\n",
    "age_pred_train = fill_age_regression(cln_train_df, reg_feats)\n",
    "cln_train_df.loc[cln_train_df.Age.isnull(), 'Age'] = age_pred_train"
   ]
  },
  {
   "cell_type": "code",
   "execution_count": 37,
   "metadata": {},
   "outputs": [
    {
     "name": "stdout",
     "output_type": "stream",
     "text": [
      "Training accuracy score:  -120.9494224735497\n"
     ]
    }
   ],
   "source": [
    "#fillna Age on testing dataset\n",
    "reg_feats = ['Sex_male', 'Embarked_Q', 'Embarked_S','Pclass', 'Title_MISS',\n",
    "             'Title_MR', 'Title_RARE', 'Family_size', 'Parch']\n",
    "age_pred_test = fill_age_regression(cln_test_df, reg_feats)\n",
    "cln_test_df.loc[cln_test_df.Age.isnull(), 'Age'] = age_pred_test"
   ]
  },
  {
   "cell_type": "code",
   "execution_count": 38,
   "metadata": {},
   "outputs": [
    {
     "data": {
      "text/plain": [
       "0"
      ]
     },
     "execution_count": 38,
     "metadata": {},
     "output_type": "execute_result"
    }
   ],
   "source": [
    "cln_train_df.Age.isnull().sum()"
   ]
  },
  {
   "cell_type": "markdown",
   "metadata": {},
   "source": [
    "####  Binning Age:\n",
    "    - Group age of certain range together"
   ]
  },
  {
   "cell_type": "code",
   "execution_count": 39,
   "metadata": {},
   "outputs": [],
   "source": [
    "full_dataset = [cln_train_df, cln_test_df]"
   ]
  },
  {
   "cell_type": "code",
   "execution_count": 40,
   "metadata": {},
   "outputs": [],
   "source": [
    "#create age binning\n",
    "for df in full_dataset:\n",
    "    df['Age_bin'] = pd.cut(df['Age'], \n",
    "                           bins=[0,13,25,50,120], \n",
    "                           labels=['CHILD', 'TEEN', 'ADULT', 'ELDER'])"
   ]
  },
  {
   "cell_type": "code",
   "execution_count": 41,
   "metadata": {},
   "outputs": [
    {
     "name": "stdout",
     "output_type": "stream",
     "text": [
      "Missing values remaining (train) :  0\n",
      "Missing values remaining (test) :  0\n"
     ]
    }
   ],
   "source": [
    "print(\"Missing values remaining (train) : \", cln_train_df.isnull().sum().sum())\n",
    "print(\"Missing values remaining (test) : \", cln_test_df.isnull().sum().sum())"
   ]
  },
  {
   "cell_type": "markdown",
   "metadata": {},
   "source": [
    "#### One-hot Encoding Age"
   ]
  },
  {
   "cell_type": "code",
   "execution_count": 42,
   "metadata": {},
   "outputs": [],
   "source": [
    "#training dataset\n",
    "one_hot_age = pd.get_dummies(cln_train_df['Age_bin'], drop_first=True)\n",
    "cln_train_df = cln_train_df.join(one_hot_age)\n",
    "\n",
    "#test dataset\n",
    "one_hot_age = pd.get_dummies(cln_test_df['Age_bin'], drop_first=True)\n",
    "cln_test_df = cln_test_df.join(one_hot_age)"
   ]
  },
  {
   "cell_type": "markdown",
   "metadata": {},
   "source": [
    "### 1.5 Drop Useless Features\n",
    "We can drop feature that is obviously not usefull. For example, passengerId and Ticket code most likely has nothing to do with Survival rate of a given passenger. "
   ]
  },
  {
   "cell_type": "code",
   "execution_count": 43,
   "metadata": {},
   "outputs": [],
   "source": [
    "#drop useless features\n",
    "full_dataset = [cln_train_df, cln_test_df]\n",
    "drop_feats = ['Embarked', 'Sex', 'Title', 'Fare_bin', 'Age_bin', 'Age', 'Fare']\n",
    "for df in full_dataset:\n",
    "    df.drop(drop_feats, axis=1, inplace=True)"
   ]
  },
  {
   "cell_type": "markdown",
   "metadata": {},
   "source": [
    "# 2. Baseline Modelling\n",
    "Let's window shopping on various machine learning models. We will create a baseline for all available models, then based on that baseline we will choose come of them to be stacked and do the real thing...\n",
    "\n",
    "Yea the real thing..."
   ]
  },
  {
   "cell_type": "code",
   "execution_count": 44,
   "metadata": {},
   "outputs": [],
   "source": [
    "#preserve cleaned dataframe, just in case...\n",
    "train_df = cln_train_df\n",
    "test_df = cln_test_df"
   ]
  },
  {
   "cell_type": "code",
   "execution_count": 45,
   "metadata": {},
   "outputs": [
    {
     "data": {
      "text/html": [
       "<div>\n",
       "<style scoped>\n",
       "    .dataframe tbody tr th:only-of-type {\n",
       "        vertical-align: middle;\n",
       "    }\n",
       "\n",
       "    .dataframe tbody tr th {\n",
       "        vertical-align: top;\n",
       "    }\n",
       "\n",
       "    .dataframe thead th {\n",
       "        text-align: right;\n",
       "    }\n",
       "</style>\n",
       "<table border=\"1\" class=\"dataframe\">\n",
       "  <thead>\n",
       "    <tr style=\"text-align: right;\">\n",
       "      <th></th>\n",
       "      <th>Survived</th>\n",
       "      <th>Pclass</th>\n",
       "      <th>SibSp</th>\n",
       "      <th>Parch</th>\n",
       "      <th>Family_size</th>\n",
       "      <th>Sex_male</th>\n",
       "      <th>Title_MISS</th>\n",
       "      <th>Title_MR</th>\n",
       "      <th>Title_RARE</th>\n",
       "      <th>Fare_bin_CHEAP</th>\n",
       "      <th>Fare_bin_FAIR</th>\n",
       "      <th>Fare_bin_EXPV</th>\n",
       "      <th>Fare_bin_VERY_EXPV</th>\n",
       "      <th>Embarked_Q</th>\n",
       "      <th>Embarked_S</th>\n",
       "      <th>TEEN</th>\n",
       "      <th>ADULT</th>\n",
       "      <th>ELDER</th>\n",
       "    </tr>\n",
       "  </thead>\n",
       "  <tbody>\n",
       "    <tr>\n",
       "      <th>0</th>\n",
       "      <td>0</td>\n",
       "      <td>3</td>\n",
       "      <td>1</td>\n",
       "      <td>0</td>\n",
       "      <td>2</td>\n",
       "      <td>1</td>\n",
       "      <td>0</td>\n",
       "      <td>1</td>\n",
       "      <td>0</td>\n",
       "      <td>0</td>\n",
       "      <td>0</td>\n",
       "      <td>0</td>\n",
       "      <td>0</td>\n",
       "      <td>0</td>\n",
       "      <td>1</td>\n",
       "      <td>1</td>\n",
       "      <td>0</td>\n",
       "      <td>0</td>\n",
       "    </tr>\n",
       "    <tr>\n",
       "      <th>1</th>\n",
       "      <td>1</td>\n",
       "      <td>1</td>\n",
       "      <td>1</td>\n",
       "      <td>0</td>\n",
       "      <td>2</td>\n",
       "      <td>0</td>\n",
       "      <td>0</td>\n",
       "      <td>0</td>\n",
       "      <td>0</td>\n",
       "      <td>0</td>\n",
       "      <td>0</td>\n",
       "      <td>0</td>\n",
       "      <td>1</td>\n",
       "      <td>0</td>\n",
       "      <td>0</td>\n",
       "      <td>0</td>\n",
       "      <td>1</td>\n",
       "      <td>0</td>\n",
       "    </tr>\n",
       "    <tr>\n",
       "      <th>2</th>\n",
       "      <td>1</td>\n",
       "      <td>3</td>\n",
       "      <td>0</td>\n",
       "      <td>0</td>\n",
       "      <td>1</td>\n",
       "      <td>0</td>\n",
       "      <td>1</td>\n",
       "      <td>0</td>\n",
       "      <td>0</td>\n",
       "      <td>1</td>\n",
       "      <td>0</td>\n",
       "      <td>0</td>\n",
       "      <td>0</td>\n",
       "      <td>0</td>\n",
       "      <td>1</td>\n",
       "      <td>0</td>\n",
       "      <td>1</td>\n",
       "      <td>0</td>\n",
       "    </tr>\n",
       "    <tr>\n",
       "      <th>3</th>\n",
       "      <td>1</td>\n",
       "      <td>1</td>\n",
       "      <td>1</td>\n",
       "      <td>0</td>\n",
       "      <td>2</td>\n",
       "      <td>0</td>\n",
       "      <td>0</td>\n",
       "      <td>0</td>\n",
       "      <td>0</td>\n",
       "      <td>0</td>\n",
       "      <td>0</td>\n",
       "      <td>0</td>\n",
       "      <td>1</td>\n",
       "      <td>0</td>\n",
       "      <td>1</td>\n",
       "      <td>0</td>\n",
       "      <td>1</td>\n",
       "      <td>0</td>\n",
       "    </tr>\n",
       "    <tr>\n",
       "      <th>4</th>\n",
       "      <td>0</td>\n",
       "      <td>3</td>\n",
       "      <td>0</td>\n",
       "      <td>0</td>\n",
       "      <td>1</td>\n",
       "      <td>1</td>\n",
       "      <td>0</td>\n",
       "      <td>1</td>\n",
       "      <td>0</td>\n",
       "      <td>1</td>\n",
       "      <td>0</td>\n",
       "      <td>0</td>\n",
       "      <td>0</td>\n",
       "      <td>0</td>\n",
       "      <td>1</td>\n",
       "      <td>0</td>\n",
       "      <td>1</td>\n",
       "      <td>0</td>\n",
       "    </tr>\n",
       "  </tbody>\n",
       "</table>\n",
       "</div>"
      ],
      "text/plain": [
       "   Survived  Pclass  SibSp  Parch  Family_size  Sex_male  Title_MISS  \\\n",
       "0         0       3      1      0            2         1           0   \n",
       "1         1       1      1      0            2         0           0   \n",
       "2         1       3      0      0            1         0           1   \n",
       "3         1       1      1      0            2         0           0   \n",
       "4         0       3      0      0            1         1           0   \n",
       "\n",
       "   Title_MR  Title_RARE  Fare_bin_CHEAP  Fare_bin_FAIR  Fare_bin_EXPV  \\\n",
       "0         1           0               0              0              0   \n",
       "1         0           0               0              0              0   \n",
       "2         0           0               1              0              0   \n",
       "3         0           0               0              0              0   \n",
       "4         1           0               1              0              0   \n",
       "\n",
       "   Fare_bin_VERY_EXPV  Embarked_Q  Embarked_S  TEEN  ADULT  ELDER  \n",
       "0                   0           0           1     1      0      0  \n",
       "1                   1           0           0     0      1      0  \n",
       "2                   0           0           1     0      1      0  \n",
       "3                   1           0           1     0      1      0  \n",
       "4                   0           0           1     0      1      0  "
      ]
     },
     "execution_count": 45,
     "metadata": {},
     "output_type": "execute_result"
    }
   ],
   "source": [
    "train_df.head()"
   ]
  },
  {
   "cell_type": "code",
   "execution_count": 46,
   "metadata": {},
   "outputs": [
    {
     "data": {
      "text/html": [
       "<div>\n",
       "<style scoped>\n",
       "    .dataframe tbody tr th:only-of-type {\n",
       "        vertical-align: middle;\n",
       "    }\n",
       "\n",
       "    .dataframe tbody tr th {\n",
       "        vertical-align: top;\n",
       "    }\n",
       "\n",
       "    .dataframe thead th {\n",
       "        text-align: right;\n",
       "    }\n",
       "</style>\n",
       "<table border=\"1\" class=\"dataframe\">\n",
       "  <thead>\n",
       "    <tr style=\"text-align: right;\">\n",
       "      <th></th>\n",
       "      <th>Pclass</th>\n",
       "      <th>SibSp</th>\n",
       "      <th>Parch</th>\n",
       "      <th>Family_size</th>\n",
       "      <th>Sex_male</th>\n",
       "      <th>Title_MISS</th>\n",
       "      <th>Title_MR</th>\n",
       "      <th>Title_RARE</th>\n",
       "      <th>Fare_bin_CHEAP</th>\n",
       "      <th>Fare_bin_FAIR</th>\n",
       "      <th>Fare_bin_EXPV</th>\n",
       "      <th>Fare_bin_VERY_EXPV</th>\n",
       "      <th>Embarked_Q</th>\n",
       "      <th>Embarked_S</th>\n",
       "      <th>TEEN</th>\n",
       "      <th>ADULT</th>\n",
       "      <th>ELDER</th>\n",
       "    </tr>\n",
       "  </thead>\n",
       "  <tbody>\n",
       "    <tr>\n",
       "      <th>0</th>\n",
       "      <td>3</td>\n",
       "      <td>0</td>\n",
       "      <td>0</td>\n",
       "      <td>1</td>\n",
       "      <td>1</td>\n",
       "      <td>0</td>\n",
       "      <td>1</td>\n",
       "      <td>0</td>\n",
       "      <td>0</td>\n",
       "      <td>0</td>\n",
       "      <td>0</td>\n",
       "      <td>0</td>\n",
       "      <td>1</td>\n",
       "      <td>0</td>\n",
       "      <td>0</td>\n",
       "      <td>1</td>\n",
       "      <td>0</td>\n",
       "    </tr>\n",
       "    <tr>\n",
       "      <th>1</th>\n",
       "      <td>3</td>\n",
       "      <td>1</td>\n",
       "      <td>0</td>\n",
       "      <td>2</td>\n",
       "      <td>0</td>\n",
       "      <td>0</td>\n",
       "      <td>0</td>\n",
       "      <td>0</td>\n",
       "      <td>0</td>\n",
       "      <td>0</td>\n",
       "      <td>0</td>\n",
       "      <td>0</td>\n",
       "      <td>0</td>\n",
       "      <td>1</td>\n",
       "      <td>0</td>\n",
       "      <td>1</td>\n",
       "      <td>0</td>\n",
       "    </tr>\n",
       "    <tr>\n",
       "      <th>2</th>\n",
       "      <td>2</td>\n",
       "      <td>0</td>\n",
       "      <td>0</td>\n",
       "      <td>1</td>\n",
       "      <td>1</td>\n",
       "      <td>0</td>\n",
       "      <td>1</td>\n",
       "      <td>0</td>\n",
       "      <td>1</td>\n",
       "      <td>0</td>\n",
       "      <td>0</td>\n",
       "      <td>0</td>\n",
       "      <td>1</td>\n",
       "      <td>0</td>\n",
       "      <td>0</td>\n",
       "      <td>0</td>\n",
       "      <td>1</td>\n",
       "    </tr>\n",
       "    <tr>\n",
       "      <th>3</th>\n",
       "      <td>3</td>\n",
       "      <td>0</td>\n",
       "      <td>0</td>\n",
       "      <td>1</td>\n",
       "      <td>1</td>\n",
       "      <td>0</td>\n",
       "      <td>1</td>\n",
       "      <td>0</td>\n",
       "      <td>1</td>\n",
       "      <td>0</td>\n",
       "      <td>0</td>\n",
       "      <td>0</td>\n",
       "      <td>0</td>\n",
       "      <td>1</td>\n",
       "      <td>0</td>\n",
       "      <td>1</td>\n",
       "      <td>0</td>\n",
       "    </tr>\n",
       "    <tr>\n",
       "      <th>4</th>\n",
       "      <td>3</td>\n",
       "      <td>1</td>\n",
       "      <td>1</td>\n",
       "      <td>3</td>\n",
       "      <td>0</td>\n",
       "      <td>0</td>\n",
       "      <td>0</td>\n",
       "      <td>0</td>\n",
       "      <td>1</td>\n",
       "      <td>0</td>\n",
       "      <td>0</td>\n",
       "      <td>0</td>\n",
       "      <td>0</td>\n",
       "      <td>1</td>\n",
       "      <td>1</td>\n",
       "      <td>0</td>\n",
       "      <td>0</td>\n",
       "    </tr>\n",
       "  </tbody>\n",
       "</table>\n",
       "</div>"
      ],
      "text/plain": [
       "   Pclass  SibSp  Parch  Family_size  Sex_male  Title_MISS  Title_MR  \\\n",
       "0       3      0      0            1         1           0         1   \n",
       "1       3      1      0            2         0           0         0   \n",
       "2       2      0      0            1         1           0         1   \n",
       "3       3      0      0            1         1           0         1   \n",
       "4       3      1      1            3         0           0         0   \n",
       "\n",
       "   Title_RARE  Fare_bin_CHEAP  Fare_bin_FAIR  Fare_bin_EXPV  \\\n",
       "0           0               0              0              0   \n",
       "1           0               0              0              0   \n",
       "2           0               1              0              0   \n",
       "3           0               1              0              0   \n",
       "4           0               1              0              0   \n",
       "\n",
       "   Fare_bin_VERY_EXPV  Embarked_Q  Embarked_S  TEEN  ADULT  ELDER  \n",
       "0                   0           1           0     0      1      0  \n",
       "1                   0           0           1     0      1      0  \n",
       "2                   0           1           0     0      0      1  \n",
       "3                   0           0           1     0      1      0  \n",
       "4                   0           0           1     1      0      0  "
      ]
     },
     "execution_count": 46,
     "metadata": {},
     "output_type": "execute_result"
    }
   ],
   "source": [
    "test_df.head()"
   ]
  },
  {
   "cell_type": "markdown",
   "metadata": {},
   "source": [
    "###  Correlation Matrix\n",
    "Data correlation might say a thing or two about how should we proceed next. Or maybe not..."
   ]
  },
  {
   "cell_type": "code",
   "execution_count": 47,
   "metadata": {},
   "outputs": [
    {
     "data": {
      "image/png": "[encoded data removed]",
      "text/plain": [
       "<Figure size 1440x864 with 2 Axes>"
      ]
     },
     "metadata": {
      "needs_background": "light"
     },
     "output_type": "display_data"
    }
   ],
   "source": [
    "#heatmap \n",
    "sns.heatmap(train_df.corr(), annot=True, cmap='RdYlGn', linewidths=0.2)\n",
    "fig=plt.gcf()\n",
    "fig.set_size_inches(20,12)\n",
    "plt.show()"
   ]
  },
  {
   "cell_type": "markdown",
   "metadata": {},
   "source": [
    "Interpreting The Heatmap The first thing to note is that only the numeric features are compared as it is obvious that we cannot correlate between alphabets or strings. Before understanding the plot, let us see what exactly correlation is.\n",
    "\n",
    "POSITIVE CORRELATION: If an increase in feature A leads to increase in feature B, then they are positively correlated. A value 1 means perfect positive correlation.\n",
    "\n",
    "NEGATIVE CORRELATION: If an increase in feature A leads to decrease in feature B, then they are negatively correlated. A value -1 means perfect negative correlation.\n",
    "\n",
    "Now lets say that two features are highly or perfectly correlated, so the increase in one leads to increase in the other. This means that both the features are containing highly similar information and there is very little or no variance in information. This is known as MultiColinearity as both of them contains almost the same information.\n",
    "\n",
    "So do you think we should use both of them as one of them is redundant. While making or training models, we should try to eliminate redundant features as it reduces training time and many such advantages.\n",
    "\n",
    "Now from the above heatmap,we can see that the features are not much correlated. The highest correlation is between SibSp and Parch i.e 0.41. So we can carry on with all features."
   ]
  },
  {
   "cell_type": "markdown",
   "metadata": {},
   "source": [
    "## Model\n",
    "\n",
    "Now we are ready to train a model and predict the required solution. There are lot of predictive modelling algorithms to choose from. We must understand the type of problem and solution requirement to narrow down to a select few models which we can evaluate. Our problem is a classification and regression problem. We want to identify relationship between output (Survived or not) with other variables or features (Gender, Age, Port...). We are also perfoming a category of machine learning which is called supervised learning as we are training our model with a given dataset. With these two criteria - Supervised Learning plus Classification and Regression, we can narrow down our choice of models to a few. These include:\n",
    "\n",
    "Logistic Regression\n",
    "\n",
    "KNN\n",
    "\n",
    "Support Vector Machines\n",
    "\n",
    "Naive Bayes classifier\n",
    "\n",
    "Decision Tree\n",
    "\n",
    "Random Forrest\n",
    "\n",
    "Linear Discriminant Analysis\n",
    "\n",
    "Ada Boost Classifier\n",
    "\n",
    "Gradient Boosting Classifier\n",
    "\n",
    "And also compared above given classifiers and evaluate the mean accuracy of each of them by a stratified kfold cross validation procedure and plot accuracy based confusion matrix"
   ]
  },
  {
   "cell_type": "code",
   "execution_count": 48,
   "metadata": {},
   "outputs": [
    {
     "name": "stdout",
     "output_type": "stream",
     "text": [
      "Shape of trainables: (712, 17) (712,)\n",
      "Shape of validation dataset (179, 17) (179,)\n"
     ]
    }
   ],
   "source": [
    "from sklearn.model_selection import train_test_split\n",
    "\n",
    "#prepare train data for splitting\n",
    "X = train_df.drop('Survived', axis=1)\n",
    "y = train_df['Survived']\n",
    "\n",
    "#traditional train-test-split\n",
    "X_train, X_val, y_train, y_val = train_test_split(X, y, \n",
    "                                                  test_size=0.2, \n",
    "                                                  random_state=42)\n",
    "print(\"Shape of trainables:\", X_train.shape, y_train.shape)\n",
    "print(\"Shape of validation dataset\", X_val.shape, y_val.shape)"
   ]
  },
  {
   "cell_type": "markdown",
   "metadata": {},
   "source": [
    "## 2.1 Logistic Regression\n",
    "Let's dive head first with Logistic Regression. Logistic (Regression) Classifier is only capable for binary classification. It's output is either zero or one.  "
   ]
  },
  {
   "cell_type": "code",
   "execution_count": 49,
   "metadata": {},
   "outputs": [
    {
     "name": "stdout",
     "output_type": "stream",
     "text": [
      "--------------The Accuracy of the model----------------------------\n",
      "The accuracy of the Logistic Regression is 79.89\n",
      "Cross-validated score of Logistic Regression model: 80.92\n"
     ]
    },
    {
     "data": {
      "image/png": "[encoded data removed]",
      "text/plain": [
       "<Figure size 432x360 with 2 Axes>"
      ]
     },
     "metadata": {
      "needs_background": "light"
     },
     "output_type": "display_data"
    }
   ],
   "source": [
    "from sklearn.linear_model import LogisticRegression\n",
    "from sklearn.metrics import (accuracy_score, \n",
    "                             confusion_matrix)\n",
    "\n",
    "#Single hold-outs validation - using train_test_split\n",
    "logReg_clf = LogisticRegression() #default hyper-param tuning\n",
    "logReg_clf.fit(X_train, y_train)\n",
    "y_pred = logReg_clf.predict(X_val)\n",
    "score_logReg_single = round(accuracy_score(y_pred,y_val)*100, 2)\n",
    "\n",
    "print(\"--------------The Accuracy of the model----------------------------\")\n",
    "print(\"The accuracy of the Logistic Regression is\", score_logReg_single)\n",
    "\n",
    "from sklearn.model_selection import (cross_val_score, \n",
    "                                     cross_val_predict)\n",
    "\n",
    "#Cross validation\n",
    "scores_logReg = cross_val_score(logReg_clf, X, y, cv=10, scoring='accuracy')\n",
    "y_pred = cross_val_predict(logReg_clf, X, y, cv=10, n_jobs=4)\n",
    "conf_mat = confusion_matrix(y, y_pred)\n",
    "\n",
    "print(\"Cross-validated score of Logistic Regression model:\", round(scores_logReg.mean()*100, 2))\n",
    "sns.heatmap(conf_mat, annot=True, fmt='3.0f', cmap='summer')\n",
    "plt.title('Confusion Matrix', y=1.05, size=15);"
   ]
  },
  {
   "cell_type": "markdown",
   "metadata": {},
   "source": [
    "## 2.2 Random Forest Classifier"
   ]
  },
  {
   "cell_type": "code",
   "execution_count": 50,
   "metadata": {},
   "outputs": [
    {
     "name": "stdout",
     "output_type": "stream",
     "text": [
      "--------------The Accuracy of the model----------------------------\n",
      "The accuracy of the Logistic Regression is 82.12\n",
      "The Cross validation accuracy score of the Random Forest is 0.8205203722619453\n"
     ]
    },
    {
     "data": {
      "image/png": "[encoded data removed]",
      "text/plain": [
       "<Figure size 432x360 with 2 Axes>"
      ]
     },
     "metadata": {
      "needs_background": "light"
     },
     "output_type": "display_data"
    }
   ],
   "source": [
    "from sklearn.ensemble import RandomForestClassifier\n",
    "from sklearn.metrics import (accuracy_score, \n",
    "                            confusion_matrix)\n",
    "\n",
    "#Single hold-outs validation\n",
    "rforest_clf = RandomForestClassifier(n_estimators=100, max_depth=6, n_jobs=-1)\n",
    "rforest_clf.fit(X_train, y_train)\n",
    "y_pred = rforest_clf.predict(X_val)\n",
    "score_rforest_single = round(accuracy_score(y_pred,y_val)*100, 2)\n",
    "\n",
    "print(\"--------------The Accuracy of the model----------------------------\")\n",
    "print(\"The accuracy of the Logistic Regression is\", score_rforest_single)\n",
    "\n",
    "from sklearn.model_selection import (cross_val_score,\n",
    "                                    cross_val_predict)\n",
    "#Cross Validation\n",
    "scores_rforest = cross_val_score(rforest_clf, X, y, cv=10, scoring='accuracy')\n",
    "y_pred = cross_val_predict(rforest_clf, X, y, cv=10, n_jobs=-1)\n",
    "conf_mat = confusion_matrix(y, y_pred)\n",
    "\n",
    "print(\"The Cross validation accuracy score of the Random Forest is\", scores_rforest.mean())\n",
    "sns.heatmap(conf_mat, annot=True, cmap='summer', fmt='3.0f');"
   ]
  },
  {
   "cell_type": "markdown",
   "metadata": {},
   "source": [
    "## 2.3 Support Vector Machine"
   ]
  },
  {
   "cell_type": "code",
   "execution_count": 51,
   "metadata": {},
   "outputs": [
    {
     "name": "stdout",
     "output_type": "stream",
     "text": [
      "--------------The Accuracy of the model----------------------------\n",
      "The accuracy of the Logistic Regression is 81.01\n",
      "The Cross validation accuracy score of the Random Forest is 82.26546362501418\n"
     ]
    },
    {
     "data": {
      "image/png": "[encoded data removed]",
      "text/plain": [
       "<Figure size 432x360 with 2 Axes>"
      ]
     },
     "metadata": {
      "needs_background": "light"
     },
     "output_type": "display_data"
    }
   ],
   "source": [
    "from sklearn.svm import SVC\n",
    "from sklearn.metrics import (accuracy_score, \n",
    "                            confusion_matrix)\n",
    "\n",
    "#Single hold-outs validation\n",
    "svc = SVC()\n",
    "svc.fit(X_train, y_train)\n",
    "y_pred = svc.predict(X_val)\n",
    "score_svc_single = round(accuracy_score(y_pred,y_val)*100, 2)\n",
    "\n",
    "print(\"--------------The Accuracy of the model----------------------------\")\n",
    "print(\"The accuracy of the Logistic Regression is\", score_svc_single)\n",
    "\n",
    "from sklearn.model_selection import (cross_val_score,\n",
    "                                    cross_val_predict)\n",
    "#Cross Validation\n",
    "scores_svc = cross_val_score(svc, X, y, cv=10, scoring='accuracy')\n",
    "y_pred = cross_val_predict(svc, X, y, cv=10, n_jobs=-1)\n",
    "conf_mat = confusion_matrix(y, y_pred)\n",
    "\n",
    "print(\"The Cross validation accuracy score of the Random Forest is\", scores_svc.mean()*100)\n",
    "sns.heatmap(conf_mat, annot=True, cmap='summer', fmt='3.0f');"
   ]
  },
  {
   "cell_type": "markdown",
   "metadata": {},
   "source": [
    "## Modularity in Data Science? Function.\n",
    "Stop right there! We have been writing the same thing over and over again for different classifiers for three times in a go. Let's write a function instead to handle our reptitive work. \n",
    "\n",
    "```\n",
    "    When you have answered the same question three times, write a blog.\n",
    "    When you have writen the same code three times, write a function...\n",
    "```"
   ]
  },
  {
   "cell_type": "code",
   "execution_count": 52,
   "metadata": {},
   "outputs": [],
   "source": [
    "from sklearn.metrics import accuracy_score, confusion_matrix\n",
    "from sklearn.model_selection import (train_test_split, \n",
    "                                     cross_val_predict, \n",
    "                                     cross_val_score)\n",
    "#def function to get baseline scorings\n",
    "def machine_learning(clf, X, y, name='Classifier'): #will do the train split test as well...\n",
    "    #splitting - single holdout\n",
    "    X_train, X_val, y_train, y_val = train_test_split(X, y, \n",
    "                                                  test_size=0.2, \n",
    "                                                  random_state=69)\n",
    "    #machine learning - single holdout\n",
    "    clf.fit(X_train, y_train)\n",
    "    y_pred = clf.predict(X_val)\n",
    "    score_single = accuracy_score(y_val, y_pred)\n",
    "    #print result\n",
    "    print(\"--------------The Accuracy of the model----------------------------\")\n",
    "    print(\"The accuracy of the Logistic Regression is\", score_single)\n",
    "    \n",
    "    #machine learning - cross validation\n",
    "    scores_cv = cross_val_score(clf, X, y, cv=10, scoring='accuracy')\n",
    "    y_pred = cross_val_predict(clf, X, y, cv=10, n_jobs=-1)\n",
    "    conf_mat = confusion_matrix(y, y_pred)\n",
    "    score_cv = round(scores_cv.mean()*100, 2)\n",
    "    #print & plot result\n",
    "    print(\"The cross val accuracy of {} is {}\".format(name, score_cv))\n",
    "    sns.heatmap(conf_mat, cmap='summer', annot=True, fmt='3.0f')\n",
    "    plt.title('Confusion Matrix')\n",
    "    \n",
    "    return score_single, score_cv, conf_mat"
   ]
  },
  {
   "cell_type": "markdown",
   "metadata": {},
   "source": [
    "Let's continue... where were we?? Ah the Gausian Naive Bayes\n",
    "## 2.4 Gaussian Naive Bayes "
   ]
  },
  {
   "cell_type": "code",
   "execution_count": 53,
   "metadata": {},
   "outputs": [
    {
     "name": "stdout",
     "output_type": "stream",
     "text": [
      "--------------The Accuracy of the model----------------------------\n",
      "The accuracy of the Logistic Regression is 0.8156424581005587\n",
      "The cross val accuracy of Gaussian Naive Bayes is 78.8\n"
     ]
    },
    {
     "data": {
      "image/png": "[encoded data removed]",
      "text/plain": [
       "<Figure size 432x360 with 2 Axes>"
      ]
     },
     "metadata": {
      "needs_background": "light"
     },
     "output_type": "display_data"
    }
   ],
   "source": [
    "#Gaussian Naive Bayes\n",
    "from sklearn.naive_bayes import GaussianNB\n",
    "gaussian_nb = GaussianNB()\n",
    "score_gnb, scorecv_gnb, conf_mat_gnb = machine_learning(gaussian_nb, X, y, name='Gaussian Naive Bayes') "
   ]
  },
  {
   "cell_type": "markdown",
   "metadata": {},
   "source": [
    "## 2.5 Linear Discriminant Analysis"
   ]
  },
  {
   "cell_type": "code",
   "execution_count": 54,
   "metadata": {},
   "outputs": [
    {
     "name": "stdout",
     "output_type": "stream",
     "text": [
      "--------------The Accuracy of the model----------------------------\n",
      "The accuracy of the Logistic Regression is 0.8324022346368715\n",
      "The cross val accuracy of Linear Discriminant Analysis is 80.47\n"
     ]
    },
    {
     "data": {
      "image/png": "[encoded data removed]",
      "text/plain": [
       "<Figure size 432x360 with 2 Axes>"
      ]
     },
     "metadata": {
      "needs_background": "light"
     },
     "output_type": "display_data"
    }
   ],
   "source": [
    "from sklearn.discriminant_analysis import LinearDiscriminantAnalysis\n",
    "\n",
    "lda = LinearDiscriminantAnalysis()\n",
    "score_lda, scorecv_lda, conf_mat_lda = machine_learning(lda, X, y, name='Linear Discriminant Analysis')"
   ]
  },
  {
   "cell_type": "markdown",
   "metadata": {},
   "source": [
    "## 2.6 Ada Boost Classifier\n",
    "ABC stands for Ada Boost Classifier... interesting! We are going to use just one tree (Decision Tree Classifier) for baseline scoring. \n",
    "\n",
    "Hence this is more like Decision Tree + Adaptive Boosting. In fact Boosting alone can't be a classifier. It's job is to boost learners/classifier models.  "
   ]
  },
  {
   "cell_type": "code",
   "execution_count": 55,
   "metadata": {},
   "outputs": [
    {
     "name": "stdout",
     "output_type": "stream",
     "text": [
      "--------------The Accuracy of the model----------------------------\n",
      "The accuracy of the Logistic Regression is 0.8324022346368715\n",
      "The cross val accuracy of Adaptive Boosting Classifier is 81.71\n"
     ]
    },
    {
     "data": {
      "image/png": "[encoded data removed]",
      "text/plain": [
       "<Figure size 432x360 with 2 Axes>"
      ]
     },
     "metadata": {
      "needs_background": "light"
     },
     "output_type": "display_data"
    }
   ],
   "source": [
    "from sklearn.ensemble import AdaBoostClassifier\n",
    "from sklearn.tree import DecisionTreeClassifier\n",
    "\n",
    "abc = AdaBoostClassifier(base_estimator=DecisionTreeClassifier(max_depth=3), \n",
    "                         n_estimators=200, \n",
    "                         learning_rate=0.01)\n",
    "score_abc, scorecv_abc, conf_mat_abc = machine_learning(abc, X, y, name='Adaptive Boosting Classifier')"
   ]
  },
  {
   "cell_type": "markdown",
   "metadata": {},
   "source": [
    "## 2.7 Gradient Boosting Classifier"
   ]
  },
  {
   "cell_type": "code",
   "execution_count": 56,
   "metadata": {},
   "outputs": [
    {
     "name": "stdout",
     "output_type": "stream",
     "text": [
      "--------------The Accuracy of the model----------------------------\n",
      "The accuracy of the Logistic Regression is 0.8156424581005587\n",
      "The cross val accuracy of Gradient Boosting Classifier is 82.38\n"
     ]
    },
    {
     "data": {
      "image/png": "[encoded data removed]",
      "text/plain": [
       "<Figure size 432x360 with 2 Axes>"
      ]
     },
     "metadata": {
      "needs_background": "light"
     },
     "output_type": "display_data"
    }
   ],
   "source": [
    "from sklearn.ensemble import GradientBoostingClassifier\n",
    "gbm = GradientBoostingClassifier(n_estimators=100, \n",
    "                                 learning_rate=0.05, \n",
    "                                 subsample=0.6, \n",
    "                                 max_depth=2)\n",
    "score_gbm, scorecv_gbm, conf_mat_gbm = machine_learning(gbm, X, y, name='Gradient Boosting Classifier')"
   ]
  },
  {
   "cell_type": "code",
   "execution_count": 57,
   "metadata": {},
   "outputs": [
    {
     "data": {
      "text/html": [
       "<div>\n",
       "<style scoped>\n",
       "    .dataframe tbody tr th:only-of-type {\n",
       "        vertical-align: middle;\n",
       "    }\n",
       "\n",
       "    .dataframe tbody tr th {\n",
       "        vertical-align: top;\n",
       "    }\n",
       "\n",
       "    .dataframe thead th {\n",
       "        text-align: right;\n",
       "    }\n",
       "</style>\n",
       "<table border=\"1\" class=\"dataframe\">\n",
       "  <thead>\n",
       "    <tr style=\"text-align: right;\">\n",
       "      <th></th>\n",
       "      <th>Model</th>\n",
       "      <th>Score</th>\n",
       "    </tr>\n",
       "  </thead>\n",
       "  <tbody>\n",
       "    <tr>\n",
       "      <th>6</th>\n",
       "      <td>Gradient Boosting</td>\n",
       "      <td>82.380000</td>\n",
       "    </tr>\n",
       "    <tr>\n",
       "      <th>2</th>\n",
       "      <td>SVM Classifier</td>\n",
       "      <td>82.265464</td>\n",
       "    </tr>\n",
       "    <tr>\n",
       "      <th>1</th>\n",
       "      <td>Random Forest</td>\n",
       "      <td>82.052037</td>\n",
       "    </tr>\n",
       "    <tr>\n",
       "      <th>5</th>\n",
       "      <td>Adaptive Boost</td>\n",
       "      <td>81.710000</td>\n",
       "    </tr>\n",
       "    <tr>\n",
       "      <th>0</th>\n",
       "      <td>Logistic Regression</td>\n",
       "      <td>80.917064</td>\n",
       "    </tr>\n",
       "    <tr>\n",
       "      <th>4</th>\n",
       "      <td>Linear Discriminant Analysis</td>\n",
       "      <td>80.470000</td>\n",
       "    </tr>\n",
       "    <tr>\n",
       "      <th>3</th>\n",
       "      <td>GNaive Bayes</td>\n",
       "      <td>78.800000</td>\n",
       "    </tr>\n",
       "  </tbody>\n",
       "</table>\n",
       "</div>"
      ],
      "text/plain": [
       "                          Model      Score\n",
       "6             Gradient Boosting  82.380000\n",
       "2                SVM Classifier  82.265464\n",
       "1                 Random Forest  82.052037\n",
       "5                Adaptive Boost  81.710000\n",
       "0           Logistic Regression  80.917064\n",
       "4  Linear Discriminant Analysis  80.470000\n",
       "3                  GNaive Bayes  78.800000"
      ]
     },
     "execution_count": 57,
     "metadata": {},
     "output_type": "execute_result"
    }
   ],
   "source": [
    "models_score = pd.DataFrame({\n",
    "    'Model': ['Logistic Regression', 'Random Forest', 'SVM Classifier', 'GNaive Bayes', \n",
    "              'Linear Discriminant Analysis', 'Adaptive Boost', 'Gradient Boosting'],\n",
    "    'Score': [scores_logReg.mean()*100, scores_rforest.mean()*100, scores_svc.mean()*100, scorecv_gnb, \n",
    "              scorecv_lda, scorecv_abc, scorecv_gbm]\n",
    "})\n",
    "models_score.sort_values(by=['Score', 'Model'], ascending=False)"
   ]
  },
  {
   "cell_type": "markdown",
   "metadata": {},
   "source": [
    "By looking at the table of models scores, we can say that **Random Forest Classifier**, **Gradient Boosting Classifier**, and **SVM Classifier** have better performance."
   ]
  },
  {
   "cell_type": "markdown",
   "metadata": {},
   "source": [
    "# 3. Hyper-Parameter Tuning\n",
    "\n",
    "The machine learning models are like a Black-Box. There are some default parameter values for this Black-Box, which we can tune or change the learning rate of the algorithm and get a better model. This is known as Hyper-Parameter Tuning\n",
    "\n",
    "So based on the above given acuracy result i will performance Grid search and random search for the SVM, LDA, Logistic Regression, Gradient Decent Classifier, Random Forest Classifier.\n",
    "\n",
    "Just a quick lookup, the parameters that we will be playing with are listed here.\n",
    "\n",
    "- n_jobs : Number of cores used for the training process. If set to -1, all cores are used.\n",
    "\n",
    "- n_estimators : Number of classification trees in your learning model ( set to 10 per default)\n",
    "\n",
    "- max_depth : Maximum depth of tree, or how much a node should be expanded. Beware if set to too high a number would run the risk of overfitting as one would be growing the tree too deep\n",
    "\n",
    "- verbose : Controls whether you want to output any text during the learning process. A value of 0 suppresses all text while a value of 3 outputs the tree learning process at every iteration.\n",
    "\n",
    "Please check out the full description via the official Sklearn website. There you will find that there are a whole host of other useful parameters that you can play around with."
   ]
  },
  {
   "cell_type": "code",
   "execution_count": 58,
   "metadata": {},
   "outputs": [
    {
     "name": "stdout",
     "output_type": "stream",
     "text": [
      "Shape of training dataset: (891, 17) (891,)\n",
      "Shape of test dataset: (418, 17)\n"
     ]
    }
   ],
   "source": [
    "#rearrange our dataset for real training and test(submission)\n",
    "X_train = train_df.drop('Survived', axis=1)\n",
    "y_train = train_df['Survived']\n",
    "X_test = test_df\n",
    "\n",
    "print(\"Shape of training dataset:\", X_train.shape, y_train.shape)\n",
    "print(\"Shape of test dataset:\", X_test.shape)"
   ]
  },
  {
   "cell_type": "code",
   "execution_count": null,
   "metadata": {},
   "outputs": [],
   "source": []
  },
  {
   "cell_type": "code",
   "execution_count": 59,
   "metadata": {},
   "outputs": [],
   "source": [
    "from sklearn.model_selection import GridSearchCV\n",
    "\n",
    "params_gbm = {\n",
    "    'loss': ['deviance', 'exponential'],\n",
    "    'learning_rate': [0.01, 0.001, 0.01],\n",
    "    'n_estimators': [200, 500, 1000],\n",
    "    'subsample': [0.5, 0.7, 1.0],\n",
    "    'max_depth': [3, 4, 5, 7],\n",
    "    'max_features': ['sqrt', 'log2', None],\n",
    "}\n",
    "\n",
    "params_abc = {\n",
    "    'n_estimators': [200, 500, 1000],\n",
    "    'learning_rate': [0.1, 0.01, 0.001],\n",
    "    'algorithm': ['SAMME', 'SAMME.R']\n",
    "}\n",
    "\n",
    "params_rforest = {\n",
    "    'n_estimators': [200, 500, 1000],\n",
    "    'max_depth': [None, 3, 5, 8],\n",
    "    'max_features': ['sqrt', 'log2', None],\n",
    "    'n_jobs': [-1],\n",
    "    'oob_score': [True],\n",
    "}\n",
    "\n",
    "params_lda = {\n",
    "    'solver': ['lsqr', 'eigen'],\n",
    "    'shrinkage': ['auto']\n",
    "}\n",
    "\n",
    "params_svc = {\n",
    "    'kernel': ['rbf', 'poly', 'linear'],\n",
    "    'gamma': [0, 1, 100, 10000],\n",
    "    'C': [1, 100, 10000]\n",
    "}"
   ]
  },
  {
   "cell_type": "markdown",
   "metadata": {},
   "source": [
    "## 3.1 Gradient Boosting Tuning"
   ]
  },
  {
   "cell_type": "code",
   "execution_count": null,
   "metadata": {},
   "outputs": [],
   "source": [
    "#Gradient Boosting Hyper-params tuning\n",
    "from sklearn.ensemble import GradientBoostingClassifier\n",
    "gbm_clf = GradientBoostingClassifier()\n",
    "gscv_gbm = GridSearchCV(gbm_clf, params_gbm, scoring='accuracy', cv=5, n_jobs=-1, verbose=1)\n",
    "gscv_gbm.fit(X_train, y_train)"
   ]
  },
  {
   "cell_type": "code",
   "execution_count": null,
   "metadata": {},
   "outputs": [],
   "source": [
    "#best hyper-params\n",
    "gbm_bparams = gscv_gbm.best_params_\n",
    "#best score\n",
    "gbm_bscore = gscv_gbm.best_score_\n",
    "#best estimator\n",
    "gbm_best = gscv_gbm.best_estimator_\n",
    "\n",
    "print(\"The best GBM hyper-parameter tuning:\", gbm_bparams)\n",
    "print(\"The best GBM cross validation scores:\", gbm_bscore)"
   ]
  },
  {
   "cell_type": "markdown",
   "metadata": {},
   "source": [
    "## 3.2 Support Vector Machine"
   ]
  },
  {
   "cell_type": "code",
   "execution_count": null,
   "metadata": {},
   "outputs": [],
   "source": [
    "#SVC Hyper-params tuning\n",
    "from sklearn.svm import SVC\n",
    "svc = SVC()\n",
    "gscv_svc = GridSearchCV(svc, params_svc, scoring='accuracy', cv=5, n_jobs=-1, verbose=1)\n",
    "gscv_svc.fit(X_train, y_train)"
   ]
  },
  {
   "cell_type": "code",
   "execution_count": null,
   "metadata": {},
   "outputs": [],
   "source": [
    "#best hyper-params\n",
    "svc_bparams = gscv_svc.best_params_\n",
    "#best score\n",
    "svc_bscore = gscv_svc.best_score_\n",
    "#best estimator\n",
    "svc_best = gscv_svc.best_estimator_\n",
    "\n",
    "print(\"The best SVC hyper-parameter tuning:\", svc_bparams)\n",
    "print(\"The best SVC cross validation scores:\", svc_bscore)"
   ]
  },
  {
   "cell_type": "markdown",
   "metadata": {},
   "source": [
    "## 3.3 Random Forest Classifier"
   ]
  },
  {
   "cell_type": "code",
   "execution_count": null,
   "metadata": {},
   "outputs": [],
   "source": [
    "#Random Forest Classifier\n",
    "from sklearn.ensemble import RandomForestClassifier\n",
    "rforest_clf = RandomForestClassifier()\n",
    "gscv_rf = GridSearchCV(rforest_clf, params_rforest, scoring='accuracy', cv=5, n_jobs=-1, verbose=1)\n",
    "gscv_rf.fit(X_train, y_train)"
   ]
  },
  {
   "cell_type": "code",
   "execution_count": null,
   "metadata": {},
   "outputs": [],
   "source": [
    "#best hyper-params\n",
    "rf_bparams = gscv_rf.best_params_\n",
    "#best score\n",
    "rf_bscore = gscv_rf.best_score_\n",
    "#best estimator\n",
    "rf_best = gscv_rf.best_estimator_\n",
    "print(\"The best SVC hyper-parameter tuning:\", rf_bparams)\n",
    "print(\"The best SVC cross validation scores:\", rf_bscore)"
   ]
  },
  {
   "cell_type": "markdown",
   "metadata": {},
   "source": [
    "## 3.4 Adaptive Boosting Classifier\n",
    "With previous top classifier as base estimator/learner"
   ]
  },
  {
   "cell_type": "code",
   "execution_count": null,
   "metadata": {},
   "outputs": [],
   "source": [
    "#ensure the above 3.1 - 3.3 has finished running\n",
    "params_abc['base_estimator'] = [rf_best, svc_best, gbm_best]"
   ]
  },
  {
   "cell_type": "code",
   "execution_count": null,
   "metadata": {},
   "outputs": [],
   "source": [
    "#Adaboost Classifier\n",
    "from sklearn.ensemble import AdaBoostClassifier\n",
    "abc = AdaBoostClassifier()\n",
    "gscv_abc = GridSearchCV(abc, params_abc, scoring='accuracy', cv=5, n_jobs=-1, verbose=1)\n",
    "gscv_abc.fit(X_train, y_train)"
   ]
  },
  {
   "cell_type": "code",
   "execution_count": null,
   "metadata": {},
   "outputs": [],
   "source": [
    "#best hyper-params\n",
    "abc_bparams = gscv_abc.best_params_\n",
    "#best score\n",
    "abc_bscore = gscv_abc.best_score_\n",
    "#best estimator\n",
    "abc_best = gscv_abc.best_estimator_\n",
    "\n",
    "print(\"The best SVC hyper-parameter tuning:\", abc_bparams)\n",
    "print(\"The best SVC cross validation scores:\", abc_bscore)"
   ]
  },
  {
   "cell_type": "markdown",
   "metadata": {},
   "source": [
    "## 3.5 Linear Discriminant Classifier"
   ]
  },
  {
   "cell_type": "code",
   "execution_count": null,
   "metadata": {},
   "outputs": [],
   "source": [
    "#LDA Classifier\n",
    "from sklearn.discriminant_analysis import LinearDiscriminantAnalysis\n",
    "lda = LinearDiscriminantAnalysis()\n",
    "gscv_lda = GridSearchCV(lda, params_lda, scoring='accuracy', cv=5, n_jobs=-1, verbose=1)\n",
    "gscv_lda.fit(X_train, y_train)"
   ]
  },
  {
   "cell_type": "code",
   "execution_count": null,
   "metadata": {},
   "outputs": [],
   "source": [
    "#best hyper-params\n",
    "lda_bparams = gscv_lda.best_params_\n",
    "#best score\n",
    "lda_bscore = gscv_lda.best_score_\n",
    "#best estimator\n",
    "lda_best = gscv_lda.best_estimator_\n",
    "\n",
    "print(\"The best SVC hyper-parameter tuning:\", lda_bparams)\n",
    "print(\"The best SVC cross validation scores:\", lda_bscore)"
   ]
  },
  {
   "cell_type": "code",
   "execution_count": null,
   "metadata": {},
   "outputs": [],
   "source": []
  },
  {
   "cell_type": "markdown",
   "metadata": {},
   "source": [
    "## Stacking with Meta Estimators"
   ]
  },
  {
   "cell_type": "code",
   "execution_count": null,
   "metadata": {},
   "outputs": [],
   "source": [
    "#prepare Random Forest Classifier\n",
    "rforest_clf = RandomForestClassifier(n_estimators=500, \n",
    "                                     max_depth=6, \n",
    "                                     n_jobs=-1)\n",
    "\n",
    "#prepare AdaBoost Classifier\n",
    "abc = AdaBoostClassifier(base_estimator=rforest_clf, \n",
    "                         n_estimators=200, \n",
    "                         learning_rate=0.01)\n",
    "\n",
    "#prepare Gradient Boosting Classifier\n",
    "gbm = GradientBoostingClassifier(n_estimators=500, \n",
    "                                 learning_rate=0.05, \n",
    "                                 subsample=0.6, \n",
    "                                 max_depth=2)\n",
    "\n",
    "#prepare Support Vector Classifier\n",
    "svc = SVC(kernel='rbf',\n",
    "          gamma=10,\n",
    "          C=100)\n",
    "\n",
    "from xgboost import XGBClassifier\n",
    "#prepare XGBoost Classifier\n",
    "xgb = XGBClassifier(max_depth=5,\n",
    "                    learning_rate=0.05,\n",
    "                    n_estimators=500,\n",
    "                    n_jobs=-1,\n",
    "                    subsample=0.7)"
   ]
  },
  {
   "cell_type": "code",
   "execution_count": null,
   "metadata": {},
   "outputs": [],
   "source": [
    "from vecstack import StackingTransformer\n",
    "\n",
    "#Initialise 1st level estimators\n",
    "estimators_level_1 = [('gradient_boosting', gbm),('support_vector', svc),\n",
    "                      ('random_forest', rforest_clf),('ada_boosting', abc)]\n",
    "\n",
    "stack_pipe_1 = StackingTransformer(estimators_level_1, regression=False,\n",
    "                                   variant='B', n_folds=7, stratified=True, needs_proba=True)\n",
    "stack_pipe_1.fit(X_train, y_train)\n",
    "s_train, s_test = stack_pipe_1.transform(X_train), stack_pipe_1.transform(X_test)\n",
    "\n",
    "#Initialise 2nd level estimators\n",
    "estimator_level_2 = [('xgboost',xgb), ('gbm', gbm)]\n",
    "stack_pipe_2 = StackingTransformer(estimators_level_2, regression=False,\n",
    "                                   variant='B', n_folds=7, stratified=True, needs_proba=True)\n",
    "stack_pipe_2.fit(s_train, y_train)\n",
    "s_train, s_test = stack_pipe_2.transform(s_train), stack_pipe_2.transform(s_test)"
   ]
  },
  {
   "cell_type": "code",
   "execution_count": null,
   "metadata": {},
   "outputs": [],
   "source": [
    "from vecstack import StackingTransformer\n",
    "\n",
    "#initial data in pipeline is the preprocessed dataset X\n",
    "s_train, s_test = X_train, X_test\n",
    "\n",
    "#run stacking\n",
    "for estimators in estimators_pipes:\n",
    "    stack = StackingTrasnformer(estimators, regression=False, \n",
    "                               variant='B', n_folds=7, stratified=True, needs_proba=True)\n",
    "    stack.fit(s_train, y_train)\n",
    "    s_train, s_test = stack.transform(s_train), stack.transform(s_test)"
   ]
  }
 ],
 "metadata": {
  "kernelspec": {
   "display_name": "Python 3",
   "language": "python",
   "name": "python3"
  },
  "language_info": {
   "codemirror_mode": {
    "name": "ipython",
    "version": 3
   },
   "file_extension": ".py",
   "mimetype": "text/x-python",
   "name": "python",
   "nbconvert_exporter": "python",
   "pygments_lexer": "ipython3",
   "version": "3.7.2"
  }
 },
 "nbformat": 4,
 "nbformat_minor": 2
}
